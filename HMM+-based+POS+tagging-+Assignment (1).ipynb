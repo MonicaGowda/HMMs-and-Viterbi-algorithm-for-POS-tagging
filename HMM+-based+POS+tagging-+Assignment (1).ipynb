{
 "cells": [
  {
   "cell_type": "markdown",
   "metadata": {},
   "source": [
    "## POS tagging using modified Viterbi"
   ]
  },
  {
   "cell_type": "markdown",
   "metadata": {},
   "source": [
    "### Data Preparation"
   ]
  },
  {
   "cell_type": "code",
   "execution_count": 48,
   "metadata": {},
   "outputs": [],
   "source": [
    "#Importing libraries\n",
    "import nltk\n"
   ]
  },
  {
   "cell_type": "code",
   "execution_count": 49,
   "metadata": {},
   "outputs": [],
   "source": [
    "# reading the Treebank tagged sentences\n",
    "nltk_data = list(nltk.corpus.treebank.tagged_sents(tagset='universal'))"
   ]
  },
  {
   "cell_type": "code",
   "execution_count": 50,
   "metadata": {},
   "outputs": [
    {
     "name": "stdout",
     "output_type": "stream",
     "text": [
      "[[('Pierre', 'NOUN'), ('Vinken', 'NOUN'), (',', '.'), ('61', 'NUM'), ('years', 'NOUN'), ('old', 'ADJ'), (',', '.'), ('will', 'VERB'), ('join', 'VERB'), ('the', 'DET'), ('board', 'NOUN'), ('as', 'ADP'), ('a', 'DET'), ('nonexecutive', 'ADJ'), ('director', 'NOUN'), ('Nov.', 'NOUN'), ('29', 'NUM'), ('.', '.')], [('Mr.', 'NOUN'), ('Vinken', 'NOUN'), ('is', 'VERB'), ('chairman', 'NOUN'), ('of', 'ADP'), ('Elsevier', 'NOUN'), ('N.V.', 'NOUN'), (',', '.'), ('the', 'DET'), ('Dutch', 'NOUN'), ('publishing', 'VERB'), ('group', 'NOUN'), ('.', '.')], [('Rudolph', 'NOUN'), ('Agnew', 'NOUN'), (',', '.'), ('55', 'NUM'), ('years', 'NOUN'), ('old', 'ADJ'), ('and', 'CONJ'), ('former', 'ADJ'), ('chairman', 'NOUN'), ('of', 'ADP'), ('Consolidated', 'NOUN'), ('Gold', 'NOUN'), ('Fields', 'NOUN'), ('PLC', 'NOUN'), (',', '.'), ('was', 'VERB'), ('named', 'VERB'), ('*-1', 'X'), ('a', 'DET'), ('nonexecutive', 'ADJ'), ('director', 'NOUN'), ('of', 'ADP'), ('this', 'DET'), ('British', 'ADJ'), ('industrial', 'ADJ'), ('conglomerate', 'NOUN'), ('.', '.')], [('A', 'DET'), ('form', 'NOUN'), ('of', 'ADP'), ('asbestos', 'NOUN'), ('once', 'ADV'), ('used', 'VERB'), ('*', 'X'), ('*', 'X'), ('to', 'PRT'), ('make', 'VERB'), ('Kent', 'NOUN'), ('cigarette', 'NOUN'), ('filters', 'NOUN'), ('has', 'VERB'), ('caused', 'VERB'), ('a', 'DET'), ('high', 'ADJ'), ('percentage', 'NOUN'), ('of', 'ADP'), ('cancer', 'NOUN'), ('deaths', 'NOUN'), ('among', 'ADP'), ('a', 'DET'), ('group', 'NOUN'), ('of', 'ADP'), ('workers', 'NOUN'), ('exposed', 'VERB'), ('*', 'X'), ('to', 'PRT'), ('it', 'PRON'), ('more', 'ADV'), ('than', 'ADP'), ('30', 'NUM'), ('years', 'NOUN'), ('ago', 'ADP'), (',', '.'), ('researchers', 'NOUN'), ('reported', 'VERB'), ('0', 'X'), ('*T*-1', 'X'), ('.', '.')], [('The', 'DET'), ('asbestos', 'NOUN'), ('fiber', 'NOUN'), (',', '.'), ('crocidolite', 'NOUN'), (',', '.'), ('is', 'VERB'), ('unusually', 'ADV'), ('resilient', 'ADJ'), ('once', 'ADP'), ('it', 'PRON'), ('enters', 'VERB'), ('the', 'DET'), ('lungs', 'NOUN'), (',', '.'), ('with', 'ADP'), ('even', 'ADV'), ('brief', 'ADJ'), ('exposures', 'NOUN'), ('to', 'PRT'), ('it', 'PRON'), ('causing', 'VERB'), ('symptoms', 'NOUN'), ('that', 'DET'), ('*T*-1', 'X'), ('show', 'VERB'), ('up', 'PRT'), ('decades', 'NOUN'), ('later', 'ADJ'), (',', '.'), ('researchers', 'NOUN'), ('said', 'VERB'), ('0', 'X'), ('*T*-2', 'X'), ('.', '.')], [('Lorillard', 'NOUN'), ('Inc.', 'NOUN'), (',', '.'), ('the', 'DET'), ('unit', 'NOUN'), ('of', 'ADP'), ('New', 'ADJ'), ('York-based', 'ADJ'), ('Loews', 'NOUN'), ('Corp.', 'NOUN'), ('that', 'DET'), ('*T*-2', 'X'), ('makes', 'VERB'), ('Kent', 'NOUN'), ('cigarettes', 'NOUN'), (',', '.'), ('stopped', 'VERB'), ('using', 'VERB'), ('crocidolite', 'NOUN'), ('in', 'ADP'), ('its', 'PRON'), ('Micronite', 'NOUN'), ('cigarette', 'NOUN'), ('filters', 'NOUN'), ('in', 'ADP'), ('1956', 'NUM'), ('.', '.')], [('Although', 'ADP'), ('preliminary', 'ADJ'), ('findings', 'NOUN'), ('were', 'VERB'), ('reported', 'VERB'), ('*-2', 'X'), ('more', 'ADV'), ('than', 'ADP'), ('a', 'DET'), ('year', 'NOUN'), ('ago', 'ADP'), (',', '.'), ('the', 'DET'), ('latest', 'ADJ'), ('results', 'NOUN'), ('appear', 'VERB'), ('in', 'ADP'), ('today', 'NOUN'), (\"'s\", 'PRT'), ('New', 'NOUN'), ('England', 'NOUN'), ('Journal', 'NOUN'), ('of', 'ADP'), ('Medicine', 'NOUN'), (',', '.'), ('a', 'DET'), ('forum', 'NOUN'), ('likely', 'ADJ'), ('*', 'X'), ('to', 'PRT'), ('bring', 'VERB'), ('new', 'ADJ'), ('attention', 'NOUN'), ('to', 'PRT'), ('the', 'DET'), ('problem', 'NOUN'), ('.', '.')], [('A', 'DET'), ('Lorillard', 'NOUN'), ('spokewoman', 'NOUN'), ('said', 'VERB'), (',', '.'), ('``', '.'), ('This', 'DET'), ('is', 'VERB'), ('an', 'DET'), ('old', 'ADJ'), ('story', 'NOUN'), ('.', '.')], [('We', 'PRON'), (\"'re\", 'VERB'), ('talking', 'VERB'), ('about', 'ADP'), ('years', 'NOUN'), ('ago', 'ADP'), ('before', 'ADP'), ('anyone', 'NOUN'), ('heard', 'VERB'), ('of', 'ADP'), ('asbestos', 'NOUN'), ('having', 'VERB'), ('any', 'DET'), ('questionable', 'ADJ'), ('properties', 'NOUN'), ('.', '.')], [('There', 'DET'), ('is', 'VERB'), ('no', 'DET'), ('asbestos', 'NOUN'), ('in', 'ADP'), ('our', 'PRON'), ('products', 'NOUN'), ('now', 'ADV'), ('.', '.'), (\"''\", '.')]]\n"
     ]
    }
   ],
   "source": [
    "# first few tagged sentences\n",
    "print(nltk_data[:10])"
   ]
  },
  {
   "cell_type": "code",
   "execution_count": 51,
   "metadata": {},
   "outputs": [],
   "source": [
    "#Importing libraries\n",
    "import nltk, re, pprint\n",
    "import numpy as np\n",
    "import pandas as pd\n",
    "import requests\n",
    "import matplotlib.pyplot as plt\n",
    "import seaborn as sns\n",
    "import pprint, time\n",
    "import random\n",
    "from sklearn.model_selection import train_test_split\n",
    "from nltk.tokenize import word_tokenize"
   ]
  },
  {
   "cell_type": "code",
   "execution_count": 52,
   "metadata": {},
   "outputs": [
    {
     "name": "stdout",
     "output_type": "stream",
     "text": [
      "Train Set : 3718\n",
      "Test Set : 196\n",
      "Train Set Data : \n",
      "  [[('Whereas', 'ADP'), ('conventional', 'ADJ'), ('securities', 'NOUN'), ('financings', 'NOUN'), ('are', 'VERB'), ('structured', 'VERB'), ('*-3', 'X'), ('to', 'PRT'), ('be', 'VERB'), ('sold', 'VERB'), ('*-1', 'X'), ('quickly', 'ADV'), (',', '.'), ('Wall', 'NOUN'), ('Street', 'NOUN'), (\"'s\", 'PRT'), ('new', 'ADJ'), ('penchant', 'NOUN'), ('for', 'ADP'), ('leveraged', 'ADJ'), ('buy-outs', 'NOUN'), ('and', 'CONJ'), ('junk', 'NOUN'), ('bonds', 'NOUN'), ('is', 'VERB'), ('resulting', 'VERB'), ('in', 'ADP'), ('long-term', 'ADJ'), ('lending', 'VERB'), ('commitments', 'NOUN'), ('that', 'DET'), ('*T*-2', 'X'), ('stretch', 'VERB'), ('out', 'PRT'), ('for', 'ADP'), ('months', 'NOUN'), ('or', 'CONJ'), ('years', 'NOUN'), ('.', '.')], [('He', 'PRON'), ('also', 'ADV'), ('said', 'VERB'), ('that', 'ADP'), ('after', 'ADP'), ('the', 'DET'), ('charges', 'NOUN'), (',', '.'), ('and', 'CONJ'), ('*-1', 'X'), ('``', '.'), ('assuming', 'VERB'), ('no', 'DET'), ('dramatic', 'ADJ'), ('fluctuation', 'NOUN'), ('in', 'ADP'), ('interest', 'NOUN'), ('rates', 'NOUN'), (',', '.'), ('the', 'DET'), ('company', 'NOUN'), ('expects', 'VERB'), ('*-1', 'X'), ('to', 'PRT'), ('achieve', 'VERB'), ('near-record', 'ADJ'), ('earnings', 'NOUN'), ('in', 'ADP'), ('1990', 'NUM'), ('.', '.'), (\"''\", '.')], [('When', 'ADV'), ('it', 'PRON'), (\"'s\", 'VERB'), ('time', 'NOUN'), ('for', 'ADP'), ('their', 'PRON'), ('biannual', 'ADJ'), ('powwow', 'NOUN'), ('*T*-1', 'X'), (',', '.'), ('the', 'DET'), ('nation', 'NOUN'), (\"'s\", 'PRT'), ('manufacturing', 'VERB'), ('titans', 'NOUN'), ('typically', 'ADV'), ('jet', 'VERB'), ('off', 'PRT'), ('to', 'PRT'), ('the', 'DET'), ('sunny', 'ADJ'), ('confines', 'NOUN'), ('of', 'ADP'), ('resort', 'NOUN'), ('towns', 'NOUN'), ('like', 'ADP'), ('Boca', 'NOUN'), ('Raton', 'NOUN'), ('and', 'CONJ'), ('Hot', 'NOUN'), ('Springs', 'NOUN'), ('.', '.')], [('*-2', 'X'), ('Also', 'ADV'), ('in', 'ADP'), ('New', 'NOUN'), ('York', 'NOUN'), (',', '.'), ('Israel', 'NOUN'), ('Silverman', 'NOUN'), (',', '.'), ('an', 'DET'), ('insurance-company', 'NOUN'), ('lawyer', 'NOUN'), (',', '.'), ('comments', 'VERB'), ('that', 'ADP'), ('program', 'NOUN'), ('trading', 'NOUN'), ('``', '.'), ('increases', 'VERB'), ('volatility', 'NOUN'), (',', '.'), ('but', 'CONJ'), ('I', 'PRON'), ('do', 'VERB'), (\"n't\", 'ADV'), ('think', 'VERB'), ('0', 'X'), ('it', 'PRON'), ('should', 'VERB'), ('be', 'VERB'), ('banned', 'VERB'), ('*-1', 'X'), ('.', '.')], [('Despite', 'ADP'), ('recent', 'ADJ'), ('declines', 'NOUN'), ('in', 'ADP'), ('yields', 'NOUN'), (',', '.'), ('investors', 'NOUN'), ('continue', 'VERB'), ('*-1', 'X'), ('to', 'PRT'), ('pour', 'VERB'), ('cash', 'NOUN'), ('into', 'ADP'), ('money', 'NOUN'), ('funds', 'NOUN'), ('.', '.')], [('Any', 'DET'), ('money', 'NOUN'), ('in', 'ADP'), ('excess', 'NOUN'), ('of', 'ADP'), ('$', '.'), ('40', 'NUM'), ('million', 'NUM'), ('*U*', 'X'), ('collected', 'VERB'), ('*', 'X'), ('from', 'ADP'), ('the', 'DET'), ('fees', 'NOUN'), ('in', 'ADP'), ('fiscal', 'ADJ'), ('1990', 'NUM'), ('would', 'VERB'), ('go', 'VERB'), ('to', 'PRT'), ('the', 'DET'), ('Treasury', 'NOUN'), ('at', 'ADP'), ('large', 'ADJ'), ('.', '.')], [('Upjohn', 'NOUN'), ('Co.', 'NOUN'), ('said', 'VERB'), ('0', 'X'), ('it', 'PRON'), ('will', 'VERB'), ('offer', 'VERB'), ('an', 'DET'), ('early', 'ADJ'), ('retirement', 'NOUN'), ('package', 'NOUN'), ('to', 'PRT'), ('as', 'ADV'), ('many', 'ADJ'), ('as', 'ADP'), ('1,100', 'NUM'), ('employees', 'NOUN'), ('in', 'ADP'), ('a', 'DET'), ('cost-cutting', 'ADJ'), ('move', 'NOUN'), ('expected', 'VERB'), ('*', 'X'), ('to', 'PRT'), ('result', 'VERB'), ('in', 'ADP'), ('a', 'DET'), ('fourth-quarter', 'NOUN'), ('charge', 'NOUN'), ('.', '.')], [('Wall', 'NOUN'), ('Street', 'NOUN'), (\"'s\", 'PRT'), ('big', 'ADJ'), ('securities', 'NOUN'), ('firms', 'NOUN'), ('face', 'VERB'), ('the', 'DET'), ('prospect', 'NOUN'), ('of', 'ADP'), ('*', 'X'), ('having', 'VERB'), ('their', 'PRON'), ('credit', 'NOUN'), ('ratings', 'NOUN'), ('lowered', 'VERB'), ('.', '.')], [('Takeover', 'NOUN'), ('experts', 'NOUN'), ('said', 'VERB'), ('0', 'X'), ('they', 'PRON'), ('doubted', 'VERB'), ('0', 'X'), ('the', 'DET'), ('financier', 'NOUN'), ('would', 'VERB'), ('make', 'VERB'), ('a', 'DET'), ('bid', 'NOUN'), ('by', 'ADP'), ('himself', 'PRON'), ('.', '.')], [('``', '.'), ('You', 'PRON'), (\"'ve\", 'VERB'), ('got', 'VERB'), ('two', 'NUM'), ('champions', 'NOUN'), ('sitting', 'VERB'), ('right', 'ADJ'), ('before', 'ADP'), ('you', 'PRON'), (',', '.'), (\"''\", '.'), ('said', 'VERB'), ('*T*-1', 'X'), ('Mr.', 'NOUN'), ('Baum', 'NOUN'), ('.', '.')]]\n"
     ]
    }
   ],
   "source": [
    "# split data into training and validation set in the ratio 95:5\n",
    "random.seed(1234)\n",
    "train_set, test_set = train_test_split(nltk_data, train_size=0.95, test_size=0.05)\n",
    "\n",
    "print(\"Train Set :\",len(train_set))\n",
    "print(\"Test Set :\",len(test_set))\n",
    "print(\"Train Set Data : \\n \",train_set[:10])"
   ]
  },
  {
   "cell_type": "code",
   "execution_count": 53,
   "metadata": {},
   "outputs": [
    {
     "data": {
      "text/plain": [
       "95604"
      ]
     },
     "execution_count": 53,
     "metadata": {},
     "output_type": "execute_result"
    }
   ],
   "source": [
    "# Getting list of tagged words\n",
    "train_tagged_words = [tup for sent in train_set for tup in sent]\n",
    "len(train_tagged_words)"
   ]
  },
  {
   "cell_type": "code",
   "execution_count": 54,
   "metadata": {},
   "outputs": [
    {
     "data": {
      "text/plain": [
       "['Whereas',\n",
       " 'conventional',\n",
       " 'securities',\n",
       " 'financings',\n",
       " 'are',\n",
       " 'structured',\n",
       " '*-3',\n",
       " 'to',\n",
       " 'be',\n",
       " 'sold']"
      ]
     },
     "execution_count": 54,
     "metadata": {},
     "output_type": "execute_result"
    }
   ],
   "source": [
    "# train data tagged tokens \n",
    "tokens = [pair[0] for pair in train_tagged_words]\n",
    "tokens[:10]"
   ]
  },
  {
   "cell_type": "code",
   "execution_count": 55,
   "metadata": {},
   "outputs": [
    {
     "name": "stdout",
     "output_type": "stream",
     "text": [
      "12082\n"
     ]
    }
   ],
   "source": [
    "# train data vocabulary\n",
    "V = set(tokens)\n",
    "print(len(V))"
   ]
  },
  {
   "cell_type": "code",
   "execution_count": 56,
   "metadata": {},
   "outputs": [
    {
     "name": "stdout",
     "output_type": "stream",
     "text": [
      "Number of tags: 12\n",
      "{'DET', 'X', 'ADV', 'ADJ', 'ADP', 'PRON', 'NUM', 'VERB', 'NOUN', 'PRT', '.', 'CONJ'}\n"
     ]
    }
   ],
   "source": [
    "# Train data tags- set\n",
    "T = set([pair[1] for pair in train_tagged_words])\n",
    "print(\"Number of tags:\", len(T))\n",
    "print(T)"
   ]
  },
  {
   "cell_type": "markdown",
   "metadata": {},
   "source": [
    "## 2. POS Tagging Algorithm - HMM\n",
    "\n",
    "We'll use the HMM algorithm to tag the words. \n",
    "To every word w, assign the tag t that maximises the likelihood P(t/w). Since P(t/w) = P(w/t). P(t) / P(w), after ignoring P(w), we have to compute P(w/t) and P(t).\n",
    "\n",
    "P(w/t) = count(w, t) / count(t). \n",
    "P(t) -> the probability of tag t.\n",
    "\n",
    "\n",
    "Given the penn treebank tagged dataset, we can compute the two terms P(w/t) and P(t) and store them in two large matrices. The matrix of P(w/t) will be sparse, since each word will not be seen with most tags ever, and those terms will thus be zero. \n"
   ]
  },
  {
   "cell_type": "markdown",
   "metadata": {},
   "source": [
    "### Emission Probabilities"
   ]
  },
  {
   "cell_type": "code",
   "execution_count": 57,
   "metadata": {
    "scrolled": true
   },
   "outputs": [],
   "source": [
    "# computing P(w/t) and storing in T x V matrix\n",
    "t = len(T)\n",
    "v = len(V)\n",
    "w_given_t = np.zeros((t, v))"
   ]
  },
  {
   "cell_type": "code",
   "execution_count": 58,
   "metadata": {},
   "outputs": [],
   "source": [
    "# compute word given tag: Emission Probability\n",
    "def word_given_tag(word, tag, train_bag = train_tagged_words):\n",
    "    tag_list = [pair for pair in train_bag if pair[1]==tag]\n",
    "    count_tag = len(tag_list)\n",
    "    w_given_tag_list = [pair[0] for pair in tag_list if pair[0]==word]\n",
    "    count_w_given_tag = len(w_given_tag_list)\n",
    "    \n",
    "    return (count_w_given_tag, count_tag)\n"
   ]
  },
  {
   "cell_type": "markdown",
   "metadata": {},
   "source": [
    "### Transition Probabilities"
   ]
  },
  {
   "cell_type": "code",
   "execution_count": 59,
   "metadata": {},
   "outputs": [],
   "source": [
    "# compute tag given tag: tag2(t2) given tag1 (t1), i.e. Transition Probability\n",
    "\n",
    "def t2_given_t1(t2, t1, train_bag = train_tagged_words):\n",
    "    tags = [pair[1] for pair in train_bag]\n",
    "    count_t1 = len([t for t in tags if t==t1])\n",
    "    count_t2_t1 = 0\n",
    "    for index in range(len(tags)-1):\n",
    "        if tags[index]==t1 and tags[index+1] == t2:\n",
    "            count_t2_t1 += 1\n",
    "    return (count_t2_t1, count_t1)\n",
    "\n"
   ]
  },
  {
   "cell_type": "code",
   "execution_count": 60,
   "metadata": {
    "scrolled": true
   },
   "outputs": [],
   "source": [
    "# creating t x t transition matrix of tags\n",
    "# each column is t2, each row is t1\n",
    "# thus M(i, j) represents P(tj given ti)\n",
    "\n",
    "tags_matrix = np.zeros((len(T), len(T)), dtype='float32')\n",
    "for i, t1 in enumerate(list(T)):\n",
    "    for j, t2 in enumerate(list(T)): \n",
    "        tags_matrix[i, j] = t2_given_t1(t2, t1)[0]/t2_given_t1(t2, t1)[1]"
   ]
  },
  {
   "cell_type": "code",
   "execution_count": 61,
   "metadata": {
    "scrolled": true
   },
   "outputs": [
    {
     "data": {
      "text/plain": [
       "array([[5.19135594e-03, 4.49112654e-02, 1.27972960e-02, 2.04273820e-01,\n",
       "        9.17541981e-03, 3.50114703e-03, 2.16105282e-02, 3.95991802e-02,\n",
       "        6.40347719e-01, 2.41458416e-04, 1.78679228e-02, 4.82916832e-04],\n",
       "       [5.50531484e-02, 7.45676681e-02, 2.52260827e-02, 1.74520072e-02,\n",
       "        1.45962238e-01, 5.52118048e-02, 2.85578286e-03, 2.04029828e-01,\n",
       "        6.25099167e-02, 1.84039339e-01, 1.63096935e-01, 9.99524072e-03],\n",
       "       [6.81515932e-02, 2.29388289e-02, 7.91223422e-02, 1.30651593e-01,\n",
       "        1.18351065e-01, 1.49601065e-02, 3.25797871e-02, 3.44747335e-01,\n",
       "        3.25797871e-02, 1.42952129e-02, 1.34640962e-01, 6.98138308e-03],\n",
       "       [4.95131221e-03, 2.11255979e-02, 4.29113721e-03, 6.66776672e-02,\n",
       "        7.70754218e-02, 6.60174934e-04, 2.11255979e-02, 1.20481923e-02,\n",
       "        6.97804928e-01, 1.12229744e-02, 6.60174936e-02, 1.69995055e-02],\n",
       "       [3.24257940e-01, 3.48067470e-02, 1.36664528e-02, 1.05808243e-01,\n",
       "        1.63356829e-02, 6.86525702e-02, 6.31005764e-02, 8.00768752e-03,\n",
       "        3.22763175e-01, 1.49476831e-03, 4.02519740e-02, 8.54153302e-04],\n",
       "       [9.62649193e-03, 9.39545631e-02, 3.46553698e-02, 7.31613412e-02,\n",
       "        2.19484027e-02, 7.70119391e-03, 7.31613394e-03, 4.84790146e-01,\n",
       "        2.09087402e-01, 1.23219099e-02, 4.00462076e-02, 5.39083546e-03],\n",
       "       [3.84957064e-03, 2.11134136e-01, 2.96120811e-03, 3.25732902e-02,\n",
       "        3.43500152e-02, 1.48060406e-03, 1.84483275e-01, 1.86556112e-02,\n",
       "        3.53568256e-01, 2.75392365e-02, 1.15190998e-01, 1.42137995e-02],\n",
       "       [1.33954212e-01, 2.18859136e-01, 8.15677121e-02, 6.50368631e-02,\n",
       "        9.15793553e-02, 3.53899896e-02, 2.25844011e-02, 1.69421807e-01,\n",
       "        1.09895229e-01, 3.13542895e-02, 3.50019410e-02, 5.35506383e-03],\n",
       "       [1.29945977e-02, 2.92013437e-02, 1.69732813e-02, 1.21185575e-02,\n",
       "        1.76996648e-01, 4.78171976e-03, 9.41743329e-03, 1.47649288e-01,\n",
       "        2.63505608e-01, 4.36560065e-02, 2.40108043e-01, 4.25974578e-02],\n",
       "       [1.01145662e-01, 1.30932899e-02, 9.49263480e-03, 8.44517201e-02,\n",
       "        2.02945992e-02, 1.89852696e-02, 5.72831407e-02, 4.00654674e-01,\n",
       "        2.48117834e-01, 1.63666124e-03, 4.32078578e-02, 1.63666124e-03],\n",
       "       [1.73780218e-01, 2.71363109e-02, 5.28349355e-02, 4.37595472e-02,\n",
       "        9.12930146e-02, 6.59538135e-02, 8.12292174e-02, 8.81480798e-02,\n",
       "        2.22212240e-01, 2.42609391e-03, 9.33596939e-02, 5.77769801e-02],\n",
       "       [1.20223671e-01, 8.85368139e-03, 5.49860187e-02, 1.18359737e-01,\n",
       "        5.26561029e-02, 5.77819198e-02, 4.33364399e-02, 1.54240444e-01,\n",
       "        3.47623497e-01, 5.12581551e-03, 3.63466926e-02, 4.65983234e-04]],\n",
       "      dtype=float32)"
      ]
     },
     "execution_count": 61,
     "metadata": {},
     "output_type": "execute_result"
    }
   ],
   "source": [
    "tags_matrix"
   ]
  },
  {
   "cell_type": "code",
   "execution_count": 62,
   "metadata": {},
   "outputs": [],
   "source": [
    "# convert the matrix to a df for better readability\n",
    "tags_df = pd.DataFrame(tags_matrix, columns = list(T), index=list(T))"
   ]
  },
  {
   "cell_type": "code",
   "execution_count": 63,
   "metadata": {
    "scrolled": true
   },
   "outputs": [
    {
     "data": {
      "text/html": [
       "<div>\n",
       "<style scoped>\n",
       "    .dataframe tbody tr th:only-of-type {\n",
       "        vertical-align: middle;\n",
       "    }\n",
       "\n",
       "    .dataframe tbody tr th {\n",
       "        vertical-align: top;\n",
       "    }\n",
       "\n",
       "    .dataframe thead th {\n",
       "        text-align: right;\n",
       "    }\n",
       "</style>\n",
       "<table border=\"1\" class=\"dataframe\">\n",
       "  <thead>\n",
       "    <tr style=\"text-align: right;\">\n",
       "      <th></th>\n",
       "      <th>DET</th>\n",
       "      <th>X</th>\n",
       "      <th>ADV</th>\n",
       "      <th>ADJ</th>\n",
       "      <th>ADP</th>\n",
       "      <th>PRON</th>\n",
       "      <th>NUM</th>\n",
       "      <th>VERB</th>\n",
       "      <th>NOUN</th>\n",
       "      <th>PRT</th>\n",
       "      <th>.</th>\n",
       "      <th>CONJ</th>\n",
       "    </tr>\n",
       "  </thead>\n",
       "  <tbody>\n",
       "    <tr>\n",
       "      <th>DET</th>\n",
       "      <td>0.005191</td>\n",
       "      <td>0.044911</td>\n",
       "      <td>0.012797</td>\n",
       "      <td>0.204274</td>\n",
       "      <td>0.009175</td>\n",
       "      <td>0.003501</td>\n",
       "      <td>0.021611</td>\n",
       "      <td>0.039599</td>\n",
       "      <td>0.640348</td>\n",
       "      <td>0.000241</td>\n",
       "      <td>0.017868</td>\n",
       "      <td>0.000483</td>\n",
       "    </tr>\n",
       "    <tr>\n",
       "      <th>X</th>\n",
       "      <td>0.055053</td>\n",
       "      <td>0.074568</td>\n",
       "      <td>0.025226</td>\n",
       "      <td>0.017452</td>\n",
       "      <td>0.145962</td>\n",
       "      <td>0.055212</td>\n",
       "      <td>0.002856</td>\n",
       "      <td>0.204030</td>\n",
       "      <td>0.062510</td>\n",
       "      <td>0.184039</td>\n",
       "      <td>0.163097</td>\n",
       "      <td>0.009995</td>\n",
       "    </tr>\n",
       "    <tr>\n",
       "      <th>ADV</th>\n",
       "      <td>0.068152</td>\n",
       "      <td>0.022939</td>\n",
       "      <td>0.079122</td>\n",
       "      <td>0.130652</td>\n",
       "      <td>0.118351</td>\n",
       "      <td>0.014960</td>\n",
       "      <td>0.032580</td>\n",
       "      <td>0.344747</td>\n",
       "      <td>0.032580</td>\n",
       "      <td>0.014295</td>\n",
       "      <td>0.134641</td>\n",
       "      <td>0.006981</td>\n",
       "    </tr>\n",
       "    <tr>\n",
       "      <th>ADJ</th>\n",
       "      <td>0.004951</td>\n",
       "      <td>0.021126</td>\n",
       "      <td>0.004291</td>\n",
       "      <td>0.066678</td>\n",
       "      <td>0.077075</td>\n",
       "      <td>0.000660</td>\n",
       "      <td>0.021126</td>\n",
       "      <td>0.012048</td>\n",
       "      <td>0.697805</td>\n",
       "      <td>0.011223</td>\n",
       "      <td>0.066017</td>\n",
       "      <td>0.017000</td>\n",
       "    </tr>\n",
       "    <tr>\n",
       "      <th>ADP</th>\n",
       "      <td>0.324258</td>\n",
       "      <td>0.034807</td>\n",
       "      <td>0.013666</td>\n",
       "      <td>0.105808</td>\n",
       "      <td>0.016336</td>\n",
       "      <td>0.068653</td>\n",
       "      <td>0.063101</td>\n",
       "      <td>0.008008</td>\n",
       "      <td>0.322763</td>\n",
       "      <td>0.001495</td>\n",
       "      <td>0.040252</td>\n",
       "      <td>0.000854</td>\n",
       "    </tr>\n",
       "    <tr>\n",
       "      <th>PRON</th>\n",
       "      <td>0.009626</td>\n",
       "      <td>0.093955</td>\n",
       "      <td>0.034655</td>\n",
       "      <td>0.073161</td>\n",
       "      <td>0.021948</td>\n",
       "      <td>0.007701</td>\n",
       "      <td>0.007316</td>\n",
       "      <td>0.484790</td>\n",
       "      <td>0.209087</td>\n",
       "      <td>0.012322</td>\n",
       "      <td>0.040046</td>\n",
       "      <td>0.005391</td>\n",
       "    </tr>\n",
       "    <tr>\n",
       "      <th>NUM</th>\n",
       "      <td>0.003850</td>\n",
       "      <td>0.211134</td>\n",
       "      <td>0.002961</td>\n",
       "      <td>0.032573</td>\n",
       "      <td>0.034350</td>\n",
       "      <td>0.001481</td>\n",
       "      <td>0.184483</td>\n",
       "      <td>0.018656</td>\n",
       "      <td>0.353568</td>\n",
       "      <td>0.027539</td>\n",
       "      <td>0.115191</td>\n",
       "      <td>0.014214</td>\n",
       "    </tr>\n",
       "    <tr>\n",
       "      <th>VERB</th>\n",
       "      <td>0.133954</td>\n",
       "      <td>0.218859</td>\n",
       "      <td>0.081568</td>\n",
       "      <td>0.065037</td>\n",
       "      <td>0.091579</td>\n",
       "      <td>0.035390</td>\n",
       "      <td>0.022584</td>\n",
       "      <td>0.169422</td>\n",
       "      <td>0.109895</td>\n",
       "      <td>0.031354</td>\n",
       "      <td>0.035002</td>\n",
       "      <td>0.005355</td>\n",
       "    </tr>\n",
       "    <tr>\n",
       "      <th>NOUN</th>\n",
       "      <td>0.012995</td>\n",
       "      <td>0.029201</td>\n",
       "      <td>0.016973</td>\n",
       "      <td>0.012119</td>\n",
       "      <td>0.176997</td>\n",
       "      <td>0.004782</td>\n",
       "      <td>0.009417</td>\n",
       "      <td>0.147649</td>\n",
       "      <td>0.263506</td>\n",
       "      <td>0.043656</td>\n",
       "      <td>0.240108</td>\n",
       "      <td>0.042597</td>\n",
       "    </tr>\n",
       "    <tr>\n",
       "      <th>PRT</th>\n",
       "      <td>0.101146</td>\n",
       "      <td>0.013093</td>\n",
       "      <td>0.009493</td>\n",
       "      <td>0.084452</td>\n",
       "      <td>0.020295</td>\n",
       "      <td>0.018985</td>\n",
       "      <td>0.057283</td>\n",
       "      <td>0.400655</td>\n",
       "      <td>0.248118</td>\n",
       "      <td>0.001637</td>\n",
       "      <td>0.043208</td>\n",
       "      <td>0.001637</td>\n",
       "    </tr>\n",
       "    <tr>\n",
       "      <th>.</th>\n",
       "      <td>0.173780</td>\n",
       "      <td>0.027136</td>\n",
       "      <td>0.052835</td>\n",
       "      <td>0.043760</td>\n",
       "      <td>0.091293</td>\n",
       "      <td>0.065954</td>\n",
       "      <td>0.081229</td>\n",
       "      <td>0.088148</td>\n",
       "      <td>0.222212</td>\n",
       "      <td>0.002426</td>\n",
       "      <td>0.093360</td>\n",
       "      <td>0.057777</td>\n",
       "    </tr>\n",
       "    <tr>\n",
       "      <th>CONJ</th>\n",
       "      <td>0.120224</td>\n",
       "      <td>0.008854</td>\n",
       "      <td>0.054986</td>\n",
       "      <td>0.118360</td>\n",
       "      <td>0.052656</td>\n",
       "      <td>0.057782</td>\n",
       "      <td>0.043336</td>\n",
       "      <td>0.154240</td>\n",
       "      <td>0.347623</td>\n",
       "      <td>0.005126</td>\n",
       "      <td>0.036347</td>\n",
       "      <td>0.000466</td>\n",
       "    </tr>\n",
       "  </tbody>\n",
       "</table>\n",
       "</div>"
      ],
      "text/plain": [
       "           DET         X       ADV       ADJ       ADP      PRON       NUM  \\\n",
       "DET   0.005191  0.044911  0.012797  0.204274  0.009175  0.003501  0.021611   \n",
       "X     0.055053  0.074568  0.025226  0.017452  0.145962  0.055212  0.002856   \n",
       "ADV   0.068152  0.022939  0.079122  0.130652  0.118351  0.014960  0.032580   \n",
       "ADJ   0.004951  0.021126  0.004291  0.066678  0.077075  0.000660  0.021126   \n",
       "ADP   0.324258  0.034807  0.013666  0.105808  0.016336  0.068653  0.063101   \n",
       "PRON  0.009626  0.093955  0.034655  0.073161  0.021948  0.007701  0.007316   \n",
       "NUM   0.003850  0.211134  0.002961  0.032573  0.034350  0.001481  0.184483   \n",
       "VERB  0.133954  0.218859  0.081568  0.065037  0.091579  0.035390  0.022584   \n",
       "NOUN  0.012995  0.029201  0.016973  0.012119  0.176997  0.004782  0.009417   \n",
       "PRT   0.101146  0.013093  0.009493  0.084452  0.020295  0.018985  0.057283   \n",
       ".     0.173780  0.027136  0.052835  0.043760  0.091293  0.065954  0.081229   \n",
       "CONJ  0.120224  0.008854  0.054986  0.118360  0.052656  0.057782  0.043336   \n",
       "\n",
       "          VERB      NOUN       PRT         .      CONJ  \n",
       "DET   0.039599  0.640348  0.000241  0.017868  0.000483  \n",
       "X     0.204030  0.062510  0.184039  0.163097  0.009995  \n",
       "ADV   0.344747  0.032580  0.014295  0.134641  0.006981  \n",
       "ADJ   0.012048  0.697805  0.011223  0.066017  0.017000  \n",
       "ADP   0.008008  0.322763  0.001495  0.040252  0.000854  \n",
       "PRON  0.484790  0.209087  0.012322  0.040046  0.005391  \n",
       "NUM   0.018656  0.353568  0.027539  0.115191  0.014214  \n",
       "VERB  0.169422  0.109895  0.031354  0.035002  0.005355  \n",
       "NOUN  0.147649  0.263506  0.043656  0.240108  0.042597  \n",
       "PRT   0.400655  0.248118  0.001637  0.043208  0.001637  \n",
       ".     0.088148  0.222212  0.002426  0.093360  0.057777  \n",
       "CONJ  0.154240  0.347623  0.005126  0.036347  0.000466  "
      ]
     },
     "execution_count": 63,
     "metadata": {},
     "output_type": "execute_result"
    }
   ],
   "source": [
    "tags_df"
   ]
  },
  {
   "cell_type": "code",
   "execution_count": 64,
   "metadata": {
    "scrolled": true
   },
   "outputs": [
    {
     "data": {
      "text/plain": [
       "DET     0.173780\n",
       "X       0.027136\n",
       "ADV     0.052835\n",
       "ADJ     0.043760\n",
       "ADP     0.091293\n",
       "PRON    0.065954\n",
       "NUM     0.081229\n",
       "VERB    0.088148\n",
       "NOUN    0.222212\n",
       "PRT     0.002426\n",
       ".       0.093360\n",
       "CONJ    0.057777\n",
       "Name: ., dtype: float32"
      ]
     },
     "execution_count": 64,
     "metadata": {},
     "output_type": "execute_result"
    }
   ],
   "source": [
    "tags_df.loc['.', :]"
   ]
  },
  {
   "cell_type": "code",
   "execution_count": 65,
   "metadata": {},
   "outputs": [
    {
     "data": {
      "image/png": "[encoded data removed]",
      "text/plain": [
       "<Figure size 1080x864 with 2 Axes>"
      ]
     },
     "metadata": {
      "needs_background": "light"
     },
     "output_type": "display_data"
    }
   ],
   "source": [
    "# heatmap of tags matrix\n",
    "# T(i, j) means P(tag j given tag i)\n",
    "plt.figure(figsize=(15, 12))\n",
    "sns.heatmap(tags_df)\n",
    "plt.show()\n"
   ]
  },
  {
   "cell_type": "code",
   "execution_count": 66,
   "metadata": {},
   "outputs": [
    {
     "data": {
      "image/png": "[encoded data removed]",
      "text/plain": [
       "<Figure size 1296x864 with 2 Axes>"
      ]
     },
     "metadata": {
      "needs_background": "light"
     },
     "output_type": "display_data"
    }
   ],
   "source": [
    "# frequent tags\n",
    "# filter the df to get P(t2, t1) > 0.5\n",
    "tags_frequent = tags_df[tags_df>0.25]\n",
    "plt.figure(figsize=(18, 12))\n",
    "sns.heatmap(tags_frequent)\n",
    "plt.show()"
   ]
  },
  {
   "cell_type": "markdown",
   "metadata": {},
   "source": [
    "#### INFERENCE:\n",
    "\n",
    "- From above heatmap, we can observe that most of the transition probabilities are between Noun and other parts of speech such as Adjective and Determinant.\n",
    "- Transition Probability between Verb and pronoun is also high"
   ]
  },
  {
   "cell_type": "markdown",
   "metadata": {},
   "source": [
    "### Build the vanilla Viterbi based POS tagger"
   ]
  },
  {
   "cell_type": "code",
   "execution_count": 67,
   "metadata": {},
   "outputs": [],
   "source": [
    "# Viterbi Heuristic\n",
    "def Viterbi(words, train_bag = train_tagged_words):\n",
    "    state = []\n",
    "    T = list(set([pair[1] for pair in train_bag]))\n",
    "    \n",
    "    for key, word in enumerate(words):\n",
    "        #initialise list of probability column for a given observation\n",
    "        p = [] \n",
    "        for tag in T:\n",
    "            if key == 0:\n",
    "                transition_p = tags_df.loc['.', tag]\n",
    "            else:\n",
    "                transition_p = tags_df.loc[state[-1], tag]\n",
    "                \n",
    "            # compute emission and state probabilities\n",
    "            emission_p = word_given_tag(words[key], tag)[0]/word_given_tag(words[key], tag)[1]\n",
    "            state_probability = emission_p * transition_p    \n",
    "            p.append(state_probability)\n",
    "            \n",
    "        pmax = max(p)\n",
    "        # getting state for which probability is maximum\n",
    "        state_max = T[p.index(pmax)] \n",
    "        state.append(state_max)\n",
    "    return list(zip(words, state))"
   ]
  },
  {
   "cell_type": "code",
   "execution_count": 68,
   "metadata": {},
   "outputs": [
    {
     "data": {
      "text/plain": [
       "[[('Lorillard', 'NOUN'),\n",
       "  ('Inc.', 'NOUN'),\n",
       "  (',', '.'),\n",
       "  ('the', 'DET'),\n",
       "  ('unit', 'NOUN'),\n",
       "  ('of', 'ADP'),\n",
       "  ('New', 'ADJ'),\n",
       "  ('York-based', 'ADJ'),\n",
       "  ('Loews', 'NOUN'),\n",
       "  ('Corp.', 'NOUN'),\n",
       "  ('that', 'DET'),\n",
       "  ('*T*-2', 'X'),\n",
       "  ('makes', 'VERB'),\n",
       "  ('Kent', 'NOUN'),\n",
       "  ('cigarettes', 'NOUN'),\n",
       "  (',', '.'),\n",
       "  ('stopped', 'VERB'),\n",
       "  ('using', 'VERB'),\n",
       "  ('crocidolite', 'NOUN'),\n",
       "  ('in', 'ADP'),\n",
       "  ('its', 'PRON'),\n",
       "  ('Micronite', 'NOUN'),\n",
       "  ('cigarette', 'NOUN'),\n",
       "  ('filters', 'NOUN'),\n",
       "  ('in', 'ADP'),\n",
       "  ('1956', 'NUM'),\n",
       "  ('.', '.')],\n",
       " [('If', 'ADP'),\n",
       "  ('they', 'PRON'),\n",
       "  ('test-drive', 'VERB'),\n",
       "  ('a', 'DET'),\n",
       "  ('Buick', 'NOUN'),\n",
       "  (',', '.'),\n",
       "  ('they', 'PRON'),\n",
       "  ('get', 'VERB'),\n",
       "  ('an', 'DET'),\n",
       "  ('American', 'NOUN'),\n",
       "  ('Express', 'NOUN'),\n",
       "  ('calculator', 'NOUN'),\n",
       "  ('.', '.')],\n",
       " [('*', 'X'),\n",
       "  ('Filling', 'VERB'),\n",
       "  ('out', 'PRT'),\n",
       "  ('detailed', 'ADJ'),\n",
       "  ('forms', 'NOUN'),\n",
       "  ('about', 'ADP'),\n",
       "  ('these', 'DET'),\n",
       "  ('individuals', 'NOUN'),\n",
       "  ('would', 'VERB'),\n",
       "  ('tip', 'VERB'),\n",
       "  ('the', 'DET'),\n",
       "  ('IRS', 'NOUN'),\n",
       "  ('off', 'PRT'),\n",
       "  ('and', 'CONJ'),\n",
       "  ('spark', 'VERB'),\n",
       "  ('action', 'NOUN'),\n",
       "  ('against', 'ADP'),\n",
       "  ('the', 'DET'),\n",
       "  ('clients', 'NOUN'),\n",
       "  (',', '.'),\n",
       "  ('he', 'PRON'),\n",
       "  ('said', 'VERB'),\n",
       "  ('0', 'X'),\n",
       "  ('*T*-1', 'X'),\n",
       "  ('.', '.')],\n",
       " [('Mr.', 'NOUN'),\n",
       "  ('Icahn', 'NOUN'),\n",
       "  ('has', 'VERB'),\n",
       "  ('said', 'VERB'),\n",
       "  ('0', 'X'),\n",
       "  ('he', 'PRON'),\n",
       "  ('believes', 'VERB'),\n",
       "  ('0', 'X'),\n",
       "  ('USX', 'NOUN'),\n",
       "  ('would', 'VERB'),\n",
       "  ('be', 'VERB'),\n",
       "  ('worth', 'ADJ'),\n",
       "  ('more', 'ADV'),\n",
       "  ('if', 'ADP'),\n",
       "  ('*-1', 'X'),\n",
       "  ('broken', 'VERB'),\n",
       "  ('up', 'PRT'),\n",
       "  ('*-2', 'X'),\n",
       "  ('into', 'ADP'),\n",
       "  ('steel', 'NOUN'),\n",
       "  ('and', 'CONJ'),\n",
       "  ('energy', 'NOUN'),\n",
       "  ('segments', 'NOUN'),\n",
       "  ('.', '.')],\n",
       " [('``', '.'),\n",
       "  ('They', 'PRON'),\n",
       "  ('are', 'VERB'),\n",
       "  (\"n't\", 'ADV'),\n",
       "  ('really', 'ADV'),\n",
       "  ('a', 'DET'),\n",
       "  ('thrift', 'NOUN'),\n",
       "  (',', '.'),\n",
       "  (\"''\", '.'),\n",
       "  ('says', 'VERB'),\n",
       "  ('*T*-1', 'X'),\n",
       "  ('Jonathan', 'NOUN'),\n",
       "  ('Gray', 'NOUN'),\n",
       "  (',', '.'),\n",
       "  ('a', 'DET'),\n",
       "  ('Sanford', 'NOUN'),\n",
       "  ('C.', 'NOUN'),\n",
       "  ('Bernstein', 'NOUN'),\n",
       "  ('analyst', 'NOUN'),\n",
       "  ('.', '.')]]"
      ]
     },
     "execution_count": 68,
     "metadata": {},
     "output_type": "execute_result"
    }
   ],
   "source": [
    "# Running on entire test dataset would take more than 3-4hrs. \n",
    "# Let's test our Viterbi algorithm on a few sample sentences of test dataset\n",
    "\n",
    "random.seed(1234)\n",
    "\n",
    "# choose random 5 sents\n",
    "rndom = [random.randint(1,len(test_set)) for x in range(5)]\n",
    "\n",
    "# list of sents\n",
    "test_run = [test_set[i] for i in rndom]\n",
    "\n",
    "# list of tagged words\n",
    "test_run_base = [tup for sent in test_run for tup in sent]\n",
    "\n",
    "# list of untagged words\n",
    "test_tagged_words = [tup[0] for sent in test_run for tup in sent]\n",
    "test_run"
   ]
  },
  {
   "cell_type": "code",
   "execution_count": 69,
   "metadata": {},
   "outputs": [],
   "source": [
    "# tagging the test sentences\n",
    "start = time.time()\n",
    "tagged_seq = Viterbi(test_tagged_words)\n",
    "end = time.time()\n",
    "difference = end-start"
   ]
  },
  {
   "cell_type": "code",
   "execution_count": 70,
   "metadata": {},
   "outputs": [
    {
     "name": "stdout",
     "output_type": "stream",
     "text": [
      "Time taken in seconds:  30.46361231803894\n",
      "[('Lorillard', 'NOUN'), ('Inc.', 'NOUN'), (',', '.'), ('the', 'DET'), ('unit', 'NOUN'), ('of', 'ADP'), ('New', 'NOUN'), ('York-based', 'NOUN'), ('Loews', 'DET'), ('Corp.', 'NOUN'), ('that', 'ADP'), ('*T*-2', 'X'), ('makes', 'VERB'), ('Kent', 'NOUN'), ('cigarettes', 'NOUN'), (',', '.'), ('stopped', 'VERB'), ('using', 'VERB'), ('crocidolite', 'NOUN'), ('in', 'ADP'), ('its', 'PRON'), ('Micronite', 'DET'), ('cigarette', 'NOUN'), ('filters', 'NOUN'), ('in', 'ADP'), ('1956', 'NUM'), ('.', '.'), ('If', 'ADP'), ('they', 'PRON'), ('test-drive', 'DET'), ('a', 'DET'), ('Buick', 'NOUN'), (',', '.'), ('they', 'PRON'), ('get', 'VERB'), ('an', 'DET'), ('American', 'ADJ'), ('Express', 'NOUN'), ('calculator', 'DET'), ('.', '.'), ('*', 'X'), ('Filling', 'DET'), ('out', 'ADP'), ('detailed', 'ADJ'), ('forms', 'NOUN'), ('about', 'ADP'), ('these', 'DET'), ('individuals', 'NOUN'), ('would', 'VERB'), ('tip', 'DET'), ('the', 'DET'), ('IRS', 'NOUN'), ('off', 'PRT'), ('and', 'CONJ'), ('spark', 'VERB'), ('action', 'NOUN'), ('against', 'ADP'), ('the', 'DET'), ('clients', 'NOUN'), (',', '.'), ('he', 'PRON'), ('said', 'VERB'), ('0', 'X'), ('*T*-1', 'X'), ('.', '.'), ('Mr.', 'NOUN'), ('Icahn', 'NOUN'), ('has', 'VERB'), ('said', 'VERB'), ('0', 'X'), ('he', 'PRON'), ('believes', 'VERB'), ('0', 'X'), ('USX', 'NOUN'), ('would', 'VERB'), ('be', 'VERB'), ('worth', 'ADJ'), ('more', 'ADJ'), ('if', 'ADP'), ('*-1', 'X'), ('broken', 'VERB'), ('up', 'ADV'), ('*-2', 'X'), ('into', 'ADP'), ('steel', 'NOUN'), ('and', 'CONJ'), ('energy', 'NOUN'), ('segments', 'NOUN'), ('.', '.'), ('``', '.'), ('They', 'PRON'), ('are', 'VERB'), (\"n't\", 'ADV'), ('really', 'ADV'), ('a', 'DET'), ('thrift', 'NOUN'), (',', '.'), (\"''\", '.'), ('says', 'VERB'), ('*T*-1', 'X'), ('Jonathan', 'NOUN'), ('Gray', 'NOUN'), (',', '.'), ('a', 'DET'), ('Sanford', 'DET'), ('C.', 'NOUN'), ('Bernstein', 'NOUN'), ('analyst', 'NOUN'), ('.', '.')]\n"
     ]
    }
   ],
   "source": [
    "print(\"Time taken in seconds: \", difference)\n",
    "print(tagged_seq)\n",
    "#print(test_run_base)"
   ]
  },
  {
   "cell_type": "code",
   "execution_count": 71,
   "metadata": {},
   "outputs": [
    {
     "data": {
      "text/plain": [
       "0.8715596330275229"
      ]
     },
     "execution_count": 71,
     "metadata": {},
     "output_type": "execute_result"
    }
   ],
   "source": [
    "# Calculate accuracy\n",
    "check = [i for i, j in zip(tagged_seq, test_run_base) if i == j] \n",
    "accuracy = len(check)/len(tagged_seq)\n",
    "accuracy"
   ]
  },
  {
   "cell_type": "code",
   "execution_count": 72,
   "metadata": {},
   "outputs": [],
   "source": [
    "incorrect_tagged_cases = [[test_run_base[i-1],j] for i, j in enumerate(zip(tagged_seq, test_run_base)) if j[0]!=j[1]] #incorrect tags"
   ]
  },
  {
   "cell_type": "code",
   "execution_count": 73,
   "metadata": {},
   "outputs": [
    {
     "data": {
      "text/plain": [
       "[[('of', 'ADP'), (('New', 'NOUN'), ('New', 'ADJ'))],\n",
       " [('New', 'ADJ'), (('York-based', 'NOUN'), ('York-based', 'ADJ'))],\n",
       " [('York-based', 'ADJ'), (('Loews', 'DET'), ('Loews', 'NOUN'))],\n",
       " [('Corp.', 'NOUN'), (('that', 'ADP'), ('that', 'DET'))],\n",
       " [('its', 'PRON'), (('Micronite', 'DET'), ('Micronite', 'NOUN'))],\n",
       " [('they', 'PRON'), (('test-drive', 'DET'), ('test-drive', 'VERB'))],\n",
       " [('an', 'DET'), (('American', 'ADJ'), ('American', 'NOUN'))],\n",
       " [('Express', 'NOUN'), (('calculator', 'DET'), ('calculator', 'NOUN'))],\n",
       " [('*', 'X'), (('Filling', 'DET'), ('Filling', 'VERB'))],\n",
       " [('Filling', 'VERB'), (('out', 'ADP'), ('out', 'PRT'))],\n",
       " [('would', 'VERB'), (('tip', 'DET'), ('tip', 'VERB'))],\n",
       " [('worth', 'ADJ'), (('more', 'ADJ'), ('more', 'ADV'))],\n",
       " [('broken', 'VERB'), (('up', 'ADV'), ('up', 'PRT'))],\n",
       " [('a', 'DET'), (('Sanford', 'DET'), ('Sanford', 'NOUN'))]]"
      ]
     },
     "execution_count": 73,
     "metadata": {},
     "output_type": "execute_result"
    }
   ],
   "source": [
    "incorrect_tagged_cases"
   ]
  },
  {
   "cell_type": "code",
   "execution_count": 74,
   "metadata": {},
   "outputs": [
    {
     "name": "stdout",
     "output_type": "stream",
     "text": [
      "Total Unknown words : 7\n",
      "\n",
      "\n",
      "Unknown Words : ['Filling', 'Sanford', 'Micronite', 'Loews', 'calculator', 'test-drive', 'tip']\n"
     ]
    }
   ],
   "source": [
    "# Unknown words \n",
    "# building the train vocabulary to a set\n",
    "training_vocabulary_set = set(tokens)\n",
    "test_vocabulary_set = set([t for t in test_tagged_words])\n",
    "\n",
    "unknown_words = list(test_vocabulary_set - training_vocabulary_set)\n",
    "print(\"Total Unknown words :\", len(unknown_words))\n",
    "print(\"\\n\")\n",
    "print(\"Unknown Words :\", unknown_words)"
   ]
  },
  {
   "cell_type": "markdown",
   "metadata": {},
   "source": [
    "### Solve the problem of unknown words"
   ]
  },
  {
   "cell_type": "markdown",
   "metadata": {},
   "source": [
    "#### Method 1: Lexion Unigram with Rule based tagging\n",
    "\n",
    "In this method we use rules that are set by us using regular expression pattern and we match that with a tag.\n",
    "This set pattern rule is passed to unigram tagger, which assigns the most commonly assigned tag to a word.\n",
    "If we combine the lexicon and the rule-based tagger, we can potentially create a tagger much better than any of the individual ones."
   ]
  },
  {
   "cell_type": "code",
   "execution_count": 75,
   "metadata": {},
   "outputs": [],
   "source": [
    "# pattern created and mapped to tag\n",
    "\n",
    "pattern = [\n",
    "        (r'^[aA-zZ].*[0-9]+','NOUN'), #alpha numeric\n",
    "        (r'.*Twitter$', 'NOUN'), \n",
    "        (r'.*Android$', 'NOUN'),\n",
    "        (r'.*Google$', 'NOUN'),\n",
    "        (r'[-+]?\\d*\\.\\d+|\\d+', 'NUM'), # Number with floating values\n",
    "        (r'[A-Z ]+', 'NOUN'),  # all caps eg. FIFA, NASA, etc\n",
    "        (r'.*ing$', 'VERB'),              # gerund, VERB\n",
    "        (r'.*ed$', 'VERB'),               # past tense\n",
    "        (r'.*es$', 'VERB'),               # 3rd singular present\n",
    "        (r'^-?[0-9]+(.[0-9]+)?$', 'NUM'),# cardinal numbers\n",
    "        (r'.*ing$', 'VERB'),\n",
    "        (r'.*ly$', 'ADV'), \n",
    "        (r'^([0-9]|[aA-zZ])+\\-[aA-zZ]*$','ADJ'),\n",
    "        (r'.*able$', 'ADJ'), \n",
    "        (r'.*ful$', 'ADJ'),\n",
    "        (r'.*ous$', 'ADJ'),\n",
    "        (r'.*ty$', 'ADJ'),\n",
    "        (r'.*', 'NOUN') # default value as NOUN\n",
    "\n",
    "]\n",
    "\n",
    "\n",
    "#creating a function with unigram tagger and rule based\n",
    "\n",
    "def rule_based_tagging(word, pattern):\n",
    "    unigram_tagger = nltk.UnigramTagger(train_set) #unigram lexion tagger\n",
    "    unigram_tagger.evaluate(test_set)\n",
    "    regexp_tagger = nltk.RegexpTagger(pattern)\n",
    "    # rule based tagger\n",
    "    rule_based_tagger = nltk.RegexpTagger(pattern)\n",
    "    # lexicon backed up by the rule-based tagger\n",
    "    lexicon_tagger = nltk.UnigramTagger(train_set, backoff=rule_based_tagger)\n",
    "    lexicon_tagger.evaluate(test_set)\n",
    "    kv = lexicon_tagger.tag(nltk.word_tokenize(word))\n",
    "    for v in kv:\n",
    "        print(word)\n",
    "        print(v[1])\n",
    "        return v[1]"
   ]
  },
  {
   "cell_type": "code",
   "execution_count": 76,
   "metadata": {},
   "outputs": [],
   "source": [
    "\n",
    "# Modifying the Viterbi Heuristic\n",
    "def modified_Viterbi_lexirule_based(words, train_bag = train_tagged_words):\n",
    "    state = []\n",
    "    T = list(set([pair[1] for pair in train_bag]))\n",
    "    \n",
    "    for key, word in enumerate(words):\n",
    "        #initialise list of probability column for a given observation\n",
    "        p = [] \n",
    "        for tag in T:\n",
    "            if key == 0:\n",
    "                transition_p = tags_df.loc['.', tag]\n",
    "            else:\n",
    "                transition_p = tags_df.loc[state[-1], tag]\n",
    "                \n",
    "            # compute emission and state probabilities\n",
    "            emission_p = word_given_tag(words[key], tag)[0]/word_given_tag(words[key], tag)[1]                \n",
    "            state_probability = emission_p * transition_p    \n",
    "            p.append(state_probability)\n",
    "        pmax = max(p)\n",
    "        if pmax == 0:       \n",
    "            state_max = rule_based_tagging(word, pattern) #use the rule based tagging when word is unknown \n",
    "            if state_max is None :\n",
    "                state_max = \".\"\n",
    "        else :\n",
    "            state_max = T[p.index(pmax)] \n",
    "        state.append(state_max)\n",
    "    return list(zip(words, state))\n",
    "\n"
   ]
  },
  {
   "cell_type": "markdown",
   "metadata": {},
   "source": [
    "#### Evaluating tagging accuracy"
   ]
  },
  {
   "cell_type": "code",
   "execution_count": 77,
   "metadata": {},
   "outputs": [
    {
     "name": "stdout",
     "output_type": "stream",
     "text": [
      "Loews\n",
      "NOUN\n",
      "Micronite\n",
      "NOUN\n",
      "test-drive\n",
      "ADJ\n",
      "calculator\n",
      "NOUN\n",
      "Filling\n",
      "NOUN\n",
      "tip\n",
      "NOUN\n",
      "Sanford\n",
      "NOUN\n",
      "Time taken in seconds:  62.997456312179565\n",
      "Vanilla Viterbi with Rule_based method:  90.82568807339449\n"
     ]
    }
   ],
   "source": [
    "# tagging the test sentences\n",
    "start = time.time()\n",
    "tagged_seq = modified_Viterbi_lexirule_based(test_tagged_words)\n",
    "end = time.time()\n",
    "difference = end-start\n",
    "\n",
    "print(\"Time taken in seconds: \", difference)\n",
    "\n",
    "# accuracy\n",
    "pcheck = [i for i, j in zip(tagged_seq, test_run_base) if i == j] \n",
    "raccuracy = len(pcheck)/len(tagged_seq)\n",
    "print('Vanilla Viterbi with Rule_based method: ',raccuracy*100)"
   ]
  },
  {
   "cell_type": "code",
   "execution_count": 78,
   "metadata": {},
   "outputs": [
    {
     "data": {
      "text/plain": [
       "[[('of', 'ADP'), (('New', 'NOUN'), ('New', 'ADJ'))],\n",
       " [('New', 'ADJ'), (('York-based', 'NOUN'), ('York-based', 'ADJ'))],\n",
       " [('Corp.', 'NOUN'), (('that', 'ADP'), ('that', 'DET'))],\n",
       " [('they', 'PRON'), (('test-drive', 'ADJ'), ('test-drive', 'VERB'))],\n",
       " [('an', 'DET'), (('American', 'ADJ'), ('American', 'NOUN'))],\n",
       " [('*', 'X'), (('Filling', 'NOUN'), ('Filling', 'VERB'))],\n",
       " [('out', 'PRT'), (('detailed', 'VERB'), ('detailed', 'ADJ'))],\n",
       " [('would', 'VERB'), (('tip', 'NOUN'), ('tip', 'VERB'))],\n",
       " [('worth', 'ADJ'), (('more', 'ADJ'), ('more', 'ADV'))],\n",
       " [('broken', 'VERB'), (('up', 'ADV'), ('up', 'PRT'))]]"
      ]
     },
     "execution_count": 78,
     "metadata": {},
     "output_type": "execute_result"
    }
   ],
   "source": [
    "rule_incorrect_tagged_cases = [[test_run_base[i-1],j] for i, j in enumerate(zip(tagged_seq, test_run_base)) if j[0]!=j[1]]\n",
    "rule_incorrect_tagged_cases #unknown tagged words"
   ]
  },
  {
   "cell_type": "code",
   "execution_count": 79,
   "metadata": {},
   "outputs": [
    {
     "name": "stdout",
     "output_type": "stream",
     "text": [
      "Total Unknown words : 7\n",
      "\n",
      "\n",
      "Unknown Words : ['Filling', 'Sanford', 'Micronite', 'Loews', 'calculator', 'test-drive', 'tip']\n"
     ]
    }
   ],
   "source": [
    "# Unknown words \n",
    "# building the train vocabulary to a set\n",
    "training_vocabulary_set = set(tokens)\n",
    "test_vocabulary_set = set([t for t in test_tagged_words])\n",
    "\n",
    "unknown_words_rule = list(test_vocabulary_set - training_vocabulary_set)\n",
    "print(\"Total Unknown words :\", len(unknown_words_rule))\n",
    "print(\"\\n\")\n",
    "print(\"Unknown Words :\", unknown_words_rule)"
   ]
  },
  {
   "cell_type": "markdown",
   "metadata": {},
   "source": [
    "."
   ]
  },
  {
   "cell_type": "markdown",
   "metadata": {},
   "source": [
    "#### Method 2:  Probability Method\n",
    "\n",
    "When the emission prbability is 0, use only the transition probability for calculating State probability"
   ]
  },
  {
   "cell_type": "code",
   "execution_count": 80,
   "metadata": {},
   "outputs": [],
   "source": [
    "def modified_Viterbi_prob_based(words, train_bag = train_tagged_words):\n",
    "    state = []\n",
    "    T = list(set([pair[1] for pair in train_bag]))\n",
    "    \n",
    "    for key, word in enumerate(words):\n",
    "        #initialise list of probability column for a given observation\n",
    "        p = [] \n",
    "        p_transition =[] # list for storing transition probabilities\n",
    "        for tag in T:\n",
    "            if key == 0:\n",
    "                transition_p = tags_df.loc['.', tag]\n",
    "            else:\n",
    "                transition_p = tags_df.loc[state[-1], tag]\n",
    "                \n",
    "            # compute emission and state probabilities\n",
    "            emission_p = word_given_tag(words[key], tag)[0]/word_given_tag(words[key], tag)[1]\n",
    "            state_probability = emission_p * transition_p    \n",
    "            p.append(state_probability)\n",
    "            p_transition.append(transition_p)\n",
    "            \n",
    "        pmax = max(p)\n",
    "        state_max = T[p.index(pmax)] \n",
    "        \n",
    "      \n",
    "        # if emission probability is zero (unknown word) then use transition probability\n",
    "        if(pmax==0):\n",
    "            pmax = max(p_transition)\n",
    "            state_max = T[p_transition.index(pmax)]\n",
    "                           \n",
    "        else:\n",
    "            state_max = T[p.index(pmax)] \n",
    "        \n",
    "        state.append(state_max)\n",
    "    return list(zip(words, state))\n",
    "\n"
   ]
  },
  {
   "cell_type": "markdown",
   "metadata": {},
   "source": [
    "#### Evaluating tagging accuracy"
   ]
  },
  {
   "cell_type": "code",
   "execution_count": 81,
   "metadata": {},
   "outputs": [
    {
     "name": "stdout",
     "output_type": "stream",
     "text": [
      "Time taken in seconds:  30.731764316558838\n",
      "Vanilla Viterbi with Probability method:  91.74311926605505\n"
     ]
    }
   ],
   "source": [
    "# tagging the test sentences\n",
    "start = time.time()\n",
    "tagged_seq = modified_Viterbi_prob_based(test_tagged_words)\n",
    "end = time.time()\n",
    "difference = end-start\n",
    "\n",
    "print(\"Time taken in seconds: \", difference)\n",
    "\n",
    "# accuracy\n",
    "pcheck = [i for i, j in zip(tagged_seq, test_run_base) if i == j] \n",
    "paccuracy = len(pcheck)/len(tagged_seq)\n",
    "print('Vanilla Viterbi with Probability method: ',paccuracy*100)"
   ]
  },
  {
   "cell_type": "code",
   "execution_count": 82,
   "metadata": {},
   "outputs": [
    {
     "data": {
      "text/plain": [
       "[[('of', 'ADP'), (('New', 'NOUN'), ('New', 'ADJ'))],\n",
       " [('New', 'ADJ'), (('York-based', 'NOUN'), ('York-based', 'ADJ'))],\n",
       " [('Corp.', 'NOUN'), (('that', 'ADP'), ('that', 'DET'))],\n",
       " [('its', 'PRON'), (('Micronite', 'VERB'), ('Micronite', 'NOUN'))],\n",
       " [('an', 'DET'), (('American', 'ADJ'), ('American', 'NOUN'))],\n",
       " [('out', 'PRT'), (('detailed', 'VERB'), ('detailed', 'ADJ'))],\n",
       " [('would', 'VERB'), (('tip', 'X'), ('tip', 'VERB'))],\n",
       " [('worth', 'ADJ'), (('more', 'ADJ'), ('more', 'ADV'))],\n",
       " [('broken', 'VERB'), (('up', 'ADV'), ('up', 'PRT'))]]"
      ]
     },
     "execution_count": 82,
     "metadata": {},
     "output_type": "execute_result"
    }
   ],
   "source": [
    "prob_incorrect_tagged_cases = [[test_run_base[i-1],j] for i, j in enumerate(zip(tagged_seq, test_run_base)) if j[0]!=j[1]]\n",
    "prob_incorrect_tagged_cases"
   ]
  },
  {
   "cell_type": "markdown",
   "metadata": {},
   "source": [
    "### Compare the tagging accuracies of the modifications with the vanilla Viterbi algorithm"
   ]
  },
  {
   "cell_type": "code",
   "execution_count": 83,
   "metadata": {},
   "outputs": [
    {
     "data": {
      "text/html": [
       "<div>\n",
       "<style scoped>\n",
       "    .dataframe tbody tr th:only-of-type {\n",
       "        vertical-align: middle;\n",
       "    }\n",
       "\n",
       "    .dataframe tbody tr th {\n",
       "        vertical-align: top;\n",
       "    }\n",
       "\n",
       "    .dataframe thead th {\n",
       "        text-align: right;\n",
       "    }\n",
       "</style>\n",
       "<table border=\"1\" class=\"dataframe\">\n",
       "  <thead>\n",
       "    <tr style=\"text-align: right;\">\n",
       "      <th></th>\n",
       "      <th>Tagging_Algorithm</th>\n",
       "      <th>Tagging_Accuracy</th>\n",
       "    </tr>\n",
       "  </thead>\n",
       "  <tbody>\n",
       "    <tr>\n",
       "      <th>0</th>\n",
       "      <td>Vanilla Viterbi</td>\n",
       "      <td>87.155963</td>\n",
       "    </tr>\n",
       "    <tr>\n",
       "      <th>1</th>\n",
       "      <td>Vanilla Viterbi with Lexion(Unigram Tagger) an...</td>\n",
       "      <td>90.825688</td>\n",
       "    </tr>\n",
       "    <tr>\n",
       "      <th>2</th>\n",
       "      <td>Vanilla Viterbi Probability method</td>\n",
       "      <td>91.743119</td>\n",
       "    </tr>\n",
       "  </tbody>\n",
       "</table>\n",
       "</div>"
      ],
      "text/plain": [
       "                                   Tagging_Algorithm  Tagging_Accuracy\n",
       "0                                    Vanilla Viterbi         87.155963\n",
       "1  Vanilla Viterbi with Lexion(Unigram Tagger) an...         90.825688\n",
       "2                 Vanilla Viterbi Probability method         91.743119"
      ]
     },
     "execution_count": 83,
     "metadata": {},
     "output_type": "execute_result"
    }
   ],
   "source": [
    "acccuracy_data = [['Vanilla Viterbi', accuracy*100], \n",
    "                  ['Vanilla Viterbi with Lexion(Unigram Tagger) and Rule based', raccuracy*100], \n",
    "                  ['Vanilla Viterbi Probability method', paccuracy * 100]]\n",
    "\n",
    "acccuracy_data_df = pd.DataFrame(acccuracy_data, columns = ['Tagging_Algorithm', 'Tagging_Accuracy'])\n",
    "\n",
    "\n",
    "acccuracy_data_df"
   ]
  },
  {
   "cell_type": "code",
   "execution_count": 84,
   "metadata": {},
   "outputs": [
    {
     "name": "stderr",
     "output_type": "stream",
     "text": [
      "c:\\users\\monica gowda\\appdata\\local\\programs\\python\\python38\\lib\\site-packages\\pandas\\plotting\\_matplotlib\\core.py:1235: UserWarning: FixedFormatter should only be used together with FixedLocator\n",
      "  ax.set_xticklabels(xticklabels)\n"
     ]
    },
    {
     "data": {
      "text/plain": [
       "<AxesSubplot:xlabel='Tagging_Algorithm'>"
      ]
     },
     "execution_count": 84,
     "metadata": {},
     "output_type": "execute_result"
    },
    {
     "data": {
      "image/png": "[encoded data removed]",
      "text/plain": [
       "<Figure size 432x288 with 1 Axes>"
      ]
     },
     "metadata": {
      "needs_background": "light"
     },
     "output_type": "display_data"
    }
   ],
   "source": [
    "acccuracy_data_df.set_index('Tagging_Algorithm', drop = True, inplace = True)\n",
    "acccuracy_data_df.plot.line(rot = 90, legend = False)"
   ]
  },
  {
   "cell_type": "markdown",
   "metadata": {},
   "source": [
    "##### INFERENCE:\n",
    "    \n",
    "- We can see an increase in accuracy for both the modified methods compared to the Vanilla Viterbi Method"
   ]
  },
  {
   "cell_type": "markdown",
   "metadata": {},
   "source": [
    "### List down cases which were incorrectly tagged by original POS tagger and got corrected by your modifications"
   ]
  },
  {
   "cell_type": "code",
   "execution_count": 85,
   "metadata": {},
   "outputs": [
    {
     "data": {
      "text/plain": [
       "[[('of', 'ADP'), (('New', 'NOUN'), ('New', 'ADJ'))],\n",
       " [('New', 'ADJ'), (('York-based', 'NOUN'), ('York-based', 'ADJ'))],\n",
       " [('York-based', 'ADJ'), (('Loews', 'DET'), ('Loews', 'NOUN'))],\n",
       " [('Corp.', 'NOUN'), (('that', 'ADP'), ('that', 'DET'))],\n",
       " [('its', 'PRON'), (('Micronite', 'DET'), ('Micronite', 'NOUN'))],\n",
       " [('they', 'PRON'), (('test-drive', 'DET'), ('test-drive', 'VERB'))],\n",
       " [('an', 'DET'), (('American', 'ADJ'), ('American', 'NOUN'))],\n",
       " [('Express', 'NOUN'), (('calculator', 'DET'), ('calculator', 'NOUN'))],\n",
       " [('*', 'X'), (('Filling', 'DET'), ('Filling', 'VERB'))],\n",
       " [('Filling', 'VERB'), (('out', 'ADP'), ('out', 'PRT'))],\n",
       " [('would', 'VERB'), (('tip', 'DET'), ('tip', 'VERB'))],\n",
       " [('worth', 'ADJ'), (('more', 'ADJ'), ('more', 'ADV'))],\n",
       " [('broken', 'VERB'), (('up', 'ADV'), ('up', 'PRT'))],\n",
       " [('a', 'DET'), (('Sanford', 'DET'), ('Sanford', 'NOUN'))]]"
      ]
     },
     "execution_count": 85,
     "metadata": {},
     "output_type": "execute_result"
    }
   ],
   "source": [
    "incorrect_tagged_cases # incorrectly tagged word in Vanilla Viterbiz"
   ]
  },
  {
   "cell_type": "code",
   "execution_count": 86,
   "metadata": {},
   "outputs": [
    {
     "data": {
      "text/plain": [
       "[[('of', 'ADP'), (('New', 'NOUN'), ('New', 'ADJ'))],\n",
       " [('New', 'ADJ'), (('York-based', 'NOUN'), ('York-based', 'ADJ'))],\n",
       " [('Corp.', 'NOUN'), (('that', 'ADP'), ('that', 'DET'))],\n",
       " [('they', 'PRON'), (('test-drive', 'ADJ'), ('test-drive', 'VERB'))],\n",
       " [('an', 'DET'), (('American', 'ADJ'), ('American', 'NOUN'))],\n",
       " [('*', 'X'), (('Filling', 'NOUN'), ('Filling', 'VERB'))],\n",
       " [('out', 'PRT'), (('detailed', 'VERB'), ('detailed', 'ADJ'))],\n",
       " [('would', 'VERB'), (('tip', 'NOUN'), ('tip', 'VERB'))],\n",
       " [('worth', 'ADJ'), (('more', 'ADJ'), ('more', 'ADV'))],\n",
       " [('broken', 'VERB'), (('up', 'ADV'), ('up', 'PRT'))]]"
      ]
     },
     "execution_count": 86,
     "metadata": {},
     "output_type": "execute_result"
    }
   ],
   "source": [
    "rule_incorrect_tagged_cases #rule based incorrect tags"
   ]
  },
  {
   "cell_type": "code",
   "execution_count": 87,
   "metadata": {},
   "outputs": [
    {
     "data": {
      "text/plain": [
       "[[('of', 'ADP'), (('New', 'NOUN'), ('New', 'ADJ'))],\n",
       " [('New', 'ADJ'), (('York-based', 'NOUN'), ('York-based', 'ADJ'))],\n",
       " [('Corp.', 'NOUN'), (('that', 'ADP'), ('that', 'DET'))],\n",
       " [('its', 'PRON'), (('Micronite', 'VERB'), ('Micronite', 'NOUN'))],\n",
       " [('an', 'DET'), (('American', 'ADJ'), ('American', 'NOUN'))],\n",
       " [('out', 'PRT'), (('detailed', 'VERB'), ('detailed', 'ADJ'))],\n",
       " [('would', 'VERB'), (('tip', 'X'), ('tip', 'VERB'))],\n",
       " [('worth', 'ADJ'), (('more', 'ADJ'), ('more', 'ADV'))],\n",
       " [('broken', 'VERB'), (('up', 'ADV'), ('up', 'PRT'))]]"
      ]
     },
     "execution_count": 87,
     "metadata": {},
     "output_type": "execute_result"
    }
   ],
   "source": [
    "prob_incorrect_tagged_cases # probability based incorrect tags"
   ]
  },
  {
   "cell_type": "markdown",
   "metadata": {},
   "source": [
    "#### Inference:\n",
    "\n",
    "We can see that there are lesser unknown or incorrectly tagged words in the modified methods than the original Viterbi Method"
   ]
  },
  {
   "cell_type": "markdown",
   "metadata": {},
   "source": [
    "#### Evaluating using the Sample sentences given"
   ]
  },
  {
   "cell_type": "code",
   "execution_count": 88,
   "metadata": {},
   "outputs": [
    {
     "name": "stdout",
     "output_type": "stream",
     "text": [
      "[('Android', 'DET'), ('is', 'VERB'), ('a', 'DET'), ('mobile', 'ADJ'), ('operating', 'NOUN'), ('system', 'NOUN'), ('developed', 'VERB'), ('by', 'ADP'), ('Google', 'DET'), ('.', '.'), ('Android', 'DET'), ('has', 'VERB'), ('been', 'VERB'), ('the', 'DET'), ('best-selling', 'DET'), ('OS', 'DET'), ('worldwide', 'DET'), ('on', 'ADP'), ('smartphones', 'DET'), ('since', 'ADP'), ('2011', 'DET'), ('and', 'CONJ'), ('on', 'ADP'), ('tablets', 'NOUN'), ('since', 'ADP'), ('2013', 'DET'), ('.', '.'), ('Google', 'DET'), ('and', 'CONJ'), ('Twitter', 'DET'), ('made', 'VERB'), ('a', 'DET'), ('deal', 'NOUN'), ('in', 'ADP'), ('2015', 'DET'), ('that', 'ADP'), ('gave', 'VERB'), ('Google', 'DET'), ('access', 'NOUN'), ('to', 'PRT'), ('Twitter', 'DET'), (\"'s\", 'VERB'), ('firehose', 'DET'), ('.', '.'), ('Twitter', 'DET'), ('is', 'VERB'), ('an', 'DET'), ('online', 'DET'), ('news', 'NOUN'), ('and', 'CONJ'), ('social', 'ADJ'), ('networking', 'NOUN'), ('service', 'NOUN'), ('on', 'ADP'), ('which', 'DET'), ('users', 'NOUN'), ('post', 'NOUN'), ('and', 'CONJ'), ('interact', 'DET'), ('with', 'ADP'), ('messages', 'DET'), ('known', 'VERB'), ('as', 'ADP'), ('tweets', 'DET'), ('.', '.'), ('Before', 'ADP'), ('entering', 'VERB'), ('politics', 'NOUN'), (',', '.'), ('Donald', 'NOUN'), ('Trump', 'NOUN'), ('was', 'VERB'), ('a', 'DET'), ('domineering', 'DET'), ('businessman', 'NOUN'), ('and', 'CONJ'), ('a', 'DET'), ('television', 'NOUN'), ('personality', 'DET'), ('.', '.'), ('The', 'DET'), ('2018', 'DET'), ('FIFA', 'DET'), ('World', 'NOUN'), ('Cup', 'DET'), ('is', 'VERB'), ('the', 'DET'), ('21st', 'DET'), ('FIFA', 'DET'), ('World', 'NOUN'), ('Cup', 'DET'), (',', '.'), ('an', 'DET'), ('international', 'ADJ'), ('football', 'NOUN'), ('tournament', 'DET'), ('contested', 'DET'), ('once', 'ADV'), ('every', 'DET'), ('four', 'NUM'), ('years', 'NOUN'), ('.', '.'), ('This', 'DET'), ('is', 'VERB'), ('the', 'DET'), ('first', 'ADJ'), ('World', 'NOUN'), ('Cup', 'DET'), ('to', 'PRT'), ('be', 'VERB'), ('held', 'VERB'), ('in', 'ADP'), ('Eastern', 'NOUN'), ('Europe', 'NOUN'), ('and', 'CONJ'), ('the', 'DET'), ('11th', 'ADJ'), ('time', 'NOUN'), ('that', 'ADP'), ('it', 'PRON'), ('has', 'VERB'), ('been', 'VERB'), ('held', 'VERB'), ('in', 'ADP'), ('Europe', 'NOUN'), ('.', '.'), ('Show', 'NOUN'), ('me', 'PRON'), ('the', 'DET'), ('cheapest', 'ADJ'), ('round', 'NOUN'), ('trips', 'DET'), ('from', 'ADP'), ('Dallas', 'NOUN'), ('to', 'PRT'), ('Atlanta', 'NOUN'), ('I', 'PRON'), ('would', 'VERB'), ('like', 'ADP'), ('to', 'PRT'), ('see', 'VERB'), ('flights', 'NOUN'), ('from', 'ADP'), ('Denver', 'NOUN'), ('to', 'PRT'), ('Philadelphia', 'NOUN'), ('.', '.'), ('Show', 'NOUN'), ('me', 'PRON'), ('the', 'DET'), ('price', 'NOUN'), ('of', 'ADP'), ('the', 'DET'), ('flights', 'NOUN'), ('leaving', 'VERB'), ('Atlanta', 'NOUN'), ('at', 'ADP'), ('about', 'ADP'), ('3', 'NUM'), ('in', 'ADP'), ('the', 'DET'), ('afternoon', 'NOUN'), ('and', 'CONJ'), ('arriving', 'DET'), ('in', 'ADP'), ('San', 'NOUN'), ('Francisco', 'NOUN'), ('.', '.'), ('NASA', 'DET'), ('invited', 'DET'), ('social', 'ADJ'), ('media', 'NOUN'), ('users', 'NOUN'), ('to', 'PRT'), ('experience', 'NOUN'), ('the', 'DET'), ('launch', 'NOUN'), ('of', 'ADP'), ('ICESAT-2', 'DET'), ('Satellite', 'DET'), ('.', '.')]\n",
      "51.26286292076111\n"
     ]
    }
   ],
   "source": [
    "\n",
    "sentence_test = open('Test_sentences.txt',mode='r').read() #read the sample text\n",
    "words = word_tokenize(sentence_test) #tokennize\n",
    "\n",
    "start = time.time()\n",
    "tagged_seq = Viterbi(words)#original Model\n",
    "end = time.time()\n",
    "difference = end-start\n",
    "\n",
    "print(tagged_seq) #tagged words\n",
    "print(difference)\n",
    "vannila_test_tagged_seq = tagged_seq"
   ]
  },
  {
   "cell_type": "code",
   "execution_count": 89,
   "metadata": {},
   "outputs": [
    {
     "data": {
      "text/plain": [
       "[[('.', '.'), (('Android', 'DET'), ('Lorillard', 'NOUN'))],\n",
       " [('Lorillard', 'NOUN'), (('is', 'VERB'), ('Inc.', 'NOUN'))],\n",
       " [('Inc.', 'NOUN'), (('a', 'DET'), (',', '.'))],\n",
       " [(',', '.'), (('mobile', 'ADJ'), ('the', 'DET'))],\n",
       " [('the', 'DET'), (('operating', 'NOUN'), ('unit', 'NOUN'))],\n",
       " [('unit', 'NOUN'), (('system', 'NOUN'), ('of', 'ADP'))],\n",
       " [('of', 'ADP'), (('developed', 'VERB'), ('New', 'ADJ'))],\n",
       " [('New', 'ADJ'), (('by', 'ADP'), ('York-based', 'ADJ'))],\n",
       " [('York-based', 'ADJ'), (('Google', 'DET'), ('Loews', 'NOUN'))],\n",
       " [('Loews', 'NOUN'), (('.', '.'), ('Corp.', 'NOUN'))],\n",
       " [('Corp.', 'NOUN'), (('Android', 'DET'), ('that', 'DET'))],\n",
       " [('that', 'DET'), (('has', 'VERB'), ('*T*-2', 'X'))],\n",
       " [('*T*-2', 'X'), (('been', 'VERB'), ('makes', 'VERB'))],\n",
       " [('makes', 'VERB'), (('the', 'DET'), ('Kent', 'NOUN'))],\n",
       " [('Kent', 'NOUN'), (('best-selling', 'DET'), ('cigarettes', 'NOUN'))],\n",
       " [('cigarettes', 'NOUN'), (('OS', 'DET'), (',', '.'))],\n",
       " [(',', '.'), (('worldwide', 'DET'), ('stopped', 'VERB'))],\n",
       " [('stopped', 'VERB'), (('on', 'ADP'), ('using', 'VERB'))],\n",
       " [('using', 'VERB'), (('smartphones', 'DET'), ('crocidolite', 'NOUN'))],\n",
       " [('crocidolite', 'NOUN'), (('since', 'ADP'), ('in', 'ADP'))],\n",
       " [('in', 'ADP'), (('2011', 'DET'), ('its', 'PRON'))],\n",
       " [('its', 'PRON'), (('and', 'CONJ'), ('Micronite', 'NOUN'))],\n",
       " [('Micronite', 'NOUN'), (('on', 'ADP'), ('cigarette', 'NOUN'))],\n",
       " [('cigarette', 'NOUN'), (('tablets', 'NOUN'), ('filters', 'NOUN'))],\n",
       " [('filters', 'NOUN'), (('since', 'ADP'), ('in', 'ADP'))],\n",
       " [('in', 'ADP'), (('2013', 'DET'), ('1956', 'NUM'))],\n",
       " [('.', '.'), (('Google', 'DET'), ('If', 'ADP'))],\n",
       " [('If', 'ADP'), (('and', 'CONJ'), ('they', 'PRON'))],\n",
       " [('they', 'PRON'), (('Twitter', 'DET'), ('test-drive', 'VERB'))],\n",
       " [('test-drive', 'VERB'), (('made', 'VERB'), ('a', 'DET'))],\n",
       " [('a', 'DET'), (('a', 'DET'), ('Buick', 'NOUN'))],\n",
       " [('Buick', 'NOUN'), (('deal', 'NOUN'), (',', '.'))],\n",
       " [(',', '.'), (('in', 'ADP'), ('they', 'PRON'))],\n",
       " [('they', 'PRON'), (('2015', 'DET'), ('get', 'VERB'))],\n",
       " [('get', 'VERB'), (('that', 'ADP'), ('an', 'DET'))],\n",
       " [('an', 'DET'), (('gave', 'VERB'), ('American', 'NOUN'))],\n",
       " [('American', 'NOUN'), (('Google', 'DET'), ('Express', 'NOUN'))],\n",
       " [('Express', 'NOUN'), (('access', 'NOUN'), ('calculator', 'NOUN'))],\n",
       " [('calculator', 'NOUN'), (('to', 'PRT'), ('.', '.'))],\n",
       " [('.', '.'), (('Twitter', 'DET'), ('*', 'X'))],\n",
       " [('*', 'X'), ((\"'s\", 'VERB'), ('Filling', 'VERB'))],\n",
       " [('Filling', 'VERB'), (('firehose', 'DET'), ('out', 'PRT'))],\n",
       " [('out', 'PRT'), (('.', '.'), ('detailed', 'ADJ'))],\n",
       " [('detailed', 'ADJ'), (('Twitter', 'DET'), ('forms', 'NOUN'))],\n",
       " [('forms', 'NOUN'), (('is', 'VERB'), ('about', 'ADP'))],\n",
       " [('about', 'ADP'), (('an', 'DET'), ('these', 'DET'))],\n",
       " [('these', 'DET'), (('online', 'DET'), ('individuals', 'NOUN'))],\n",
       " [('individuals', 'NOUN'), (('news', 'NOUN'), ('would', 'VERB'))],\n",
       " [('would', 'VERB'), (('and', 'CONJ'), ('tip', 'VERB'))],\n",
       " [('tip', 'VERB'), (('social', 'ADJ'), ('the', 'DET'))],\n",
       " [('the', 'DET'), (('networking', 'NOUN'), ('IRS', 'NOUN'))],\n",
       " [('IRS', 'NOUN'), (('service', 'NOUN'), ('off', 'PRT'))],\n",
       " [('off', 'PRT'), (('on', 'ADP'), ('and', 'CONJ'))],\n",
       " [('and', 'CONJ'), (('which', 'DET'), ('spark', 'VERB'))],\n",
       " [('spark', 'VERB'), (('users', 'NOUN'), ('action', 'NOUN'))],\n",
       " [('action', 'NOUN'), (('post', 'NOUN'), ('against', 'ADP'))],\n",
       " [('against', 'ADP'), (('and', 'CONJ'), ('the', 'DET'))],\n",
       " [('the', 'DET'), (('interact', 'DET'), ('clients', 'NOUN'))],\n",
       " [('clients', 'NOUN'), (('with', 'ADP'), (',', '.'))],\n",
       " [(',', '.'), (('messages', 'DET'), ('he', 'PRON'))],\n",
       " [('he', 'PRON'), (('known', 'VERB'), ('said', 'VERB'))],\n",
       " [('said', 'VERB'), (('as', 'ADP'), ('0', 'X'))],\n",
       " [('0', 'X'), (('tweets', 'DET'), ('*T*-1', 'X'))],\n",
       " [('.', '.'), (('Before', 'ADP'), ('Mr.', 'NOUN'))],\n",
       " [('Mr.', 'NOUN'), (('entering', 'VERB'), ('Icahn', 'NOUN'))],\n",
       " [('Icahn', 'NOUN'), (('politics', 'NOUN'), ('has', 'VERB'))],\n",
       " [('has', 'VERB'), ((',', '.'), ('said', 'VERB'))],\n",
       " [('said', 'VERB'), (('Donald', 'NOUN'), ('0', 'X'))],\n",
       " [('0', 'X'), (('Trump', 'NOUN'), ('he', 'PRON'))],\n",
       " [('he', 'PRON'), (('was', 'VERB'), ('believes', 'VERB'))],\n",
       " [('believes', 'VERB'), (('a', 'DET'), ('0', 'X'))],\n",
       " [('0', 'X'), (('domineering', 'DET'), ('USX', 'NOUN'))],\n",
       " [('USX', 'NOUN'), (('businessman', 'NOUN'), ('would', 'VERB'))],\n",
       " [('would', 'VERB'), (('and', 'CONJ'), ('be', 'VERB'))],\n",
       " [('be', 'VERB'), (('a', 'DET'), ('worth', 'ADJ'))],\n",
       " [('worth', 'ADJ'), (('television', 'NOUN'), ('more', 'ADV'))],\n",
       " [('more', 'ADV'), (('personality', 'DET'), ('if', 'ADP'))],\n",
       " [('if', 'ADP'), (('.', '.'), ('*-1', 'X'))],\n",
       " [('*-1', 'X'), (('The', 'DET'), ('broken', 'VERB'))],\n",
       " [('broken', 'VERB'), (('2018', 'DET'), ('up', 'PRT'))],\n",
       " [('up', 'PRT'), (('FIFA', 'DET'), ('*-2', 'X'))],\n",
       " [('*-2', 'X'), (('World', 'NOUN'), ('into', 'ADP'))],\n",
       " [('into', 'ADP'), (('Cup', 'DET'), ('steel', 'NOUN'))],\n",
       " [('steel', 'NOUN'), (('is', 'VERB'), ('and', 'CONJ'))],\n",
       " [('and', 'CONJ'), (('the', 'DET'), ('energy', 'NOUN'))],\n",
       " [('energy', 'NOUN'), (('21st', 'DET'), ('segments', 'NOUN'))],\n",
       " [('segments', 'NOUN'), (('FIFA', 'DET'), ('.', '.'))],\n",
       " [('.', '.'), (('World', 'NOUN'), ('``', '.'))],\n",
       " [('``', '.'), (('Cup', 'DET'), ('They', 'PRON'))],\n",
       " [('They', 'PRON'), ((',', '.'), ('are', 'VERB'))],\n",
       " [('are', 'VERB'), (('an', 'DET'), (\"n't\", 'ADV'))],\n",
       " [(\"n't\", 'ADV'), (('international', 'ADJ'), ('really', 'ADV'))],\n",
       " [('really', 'ADV'), (('football', 'NOUN'), ('a', 'DET'))],\n",
       " [('a', 'DET'), (('tournament', 'DET'), ('thrift', 'NOUN'))],\n",
       " [('thrift', 'NOUN'), (('contested', 'DET'), (',', '.'))],\n",
       " [(',', '.'), (('once', 'ADV'), (\"''\", '.'))],\n",
       " [(\"''\", '.'), (('every', 'DET'), ('says', 'VERB'))],\n",
       " [('says', 'VERB'), (('four', 'NUM'), ('*T*-1', 'X'))],\n",
       " [('*T*-1', 'X'), (('years', 'NOUN'), ('Jonathan', 'NOUN'))],\n",
       " [('Jonathan', 'NOUN'), (('.', '.'), ('Gray', 'NOUN'))],\n",
       " [('Gray', 'NOUN'), (('This', 'DET'), (',', '.'))],\n",
       " [(',', '.'), (('is', 'VERB'), ('a', 'DET'))],\n",
       " [('a', 'DET'), (('the', 'DET'), ('Sanford', 'NOUN'))],\n",
       " [('Sanford', 'NOUN'), (('first', 'ADJ'), ('C.', 'NOUN'))],\n",
       " [('C.', 'NOUN'), (('World', 'NOUN'), ('Bernstein', 'NOUN'))],\n",
       " [('Bernstein', 'NOUN'), (('Cup', 'DET'), ('analyst', 'NOUN'))],\n",
       " [('analyst', 'NOUN'), (('to', 'PRT'), ('.', '.'))]]"
      ]
     },
     "execution_count": 89,
     "metadata": {},
     "output_type": "execute_result"
    }
   ],
   "source": [
    "incorrect_tagged_cases = [[test_run_base[i-1],j] for i, j in enumerate(zip(tagged_seq, test_run_base)) if j[0]!=j[1]]\n",
    "incorrect_tagged_cases # original "
   ]
  },
  {
   "cell_type": "code",
   "execution_count": 90,
   "metadata": {},
   "outputs": [
    {
     "name": "stdout",
     "output_type": "stream",
     "text": [
      "Android\n",
      "NOUN\n",
      "Google\n",
      "NOUN\n",
      "Android\n",
      "NOUN\n",
      "best-selling\n",
      "VERB\n",
      "OS\n",
      "NOUN\n",
      "worldwide\n",
      "NOUN\n",
      "smartphones\n",
      "VERB\n",
      "2011\n",
      "NUM\n",
      "2013\n",
      "NUM\n",
      "Google\n",
      "NOUN\n",
      "Twitter\n",
      "NOUN\n",
      "2015\n",
      "NUM\n",
      "Google\n",
      "NOUN\n",
      "Twitter\n",
      "NOUN\n",
      "firehose\n",
      "NOUN\n",
      "Twitter\n",
      "NOUN\n",
      "online\n",
      "NOUN\n",
      "interact\n",
      "NOUN\n",
      "messages\n",
      "VERB\n",
      "tweets\n",
      "NOUN\n",
      "domineering\n",
      "VERB\n",
      "personality\n",
      "ADJ\n",
      "2018\n",
      "NUM\n",
      "FIFA\n",
      "NOUN\n",
      "Cup\n",
      "NOUN\n",
      "21st\n",
      "NUM\n",
      "FIFA\n",
      "NOUN\n",
      "Cup\n",
      "NOUN\n",
      "tournament\n",
      "NOUN\n",
      "contested\n",
      "VERB\n",
      "Cup\n",
      "NOUN\n",
      "trips\n",
      "NOUN\n",
      "arriving\n",
      "VERB\n",
      "NASA\n",
      "NOUN\n",
      "invited\n",
      "VERB\n",
      "ICESAT-2\n",
      "NOUN\n",
      "Satellite\n",
      "NOUN\n",
      "[('Android', 'NOUN'), ('is', 'VERB'), ('a', 'DET'), ('mobile', 'ADJ'), ('operating', 'NOUN'), ('system', 'NOUN'), ('developed', 'VERB'), ('by', 'ADP'), ('Google', 'NOUN'), ('.', '.'), ('Android', 'NOUN'), ('has', 'VERB'), ('been', 'VERB'), ('the', 'DET'), ('best-selling', 'VERB'), ('OS', 'NOUN'), ('worldwide', 'NOUN'), ('on', 'ADP'), ('smartphones', 'VERB'), ('since', 'ADP'), ('2011', 'NUM'), ('and', 'CONJ'), ('on', 'ADP'), ('tablets', 'NOUN'), ('since', 'ADP'), ('2013', 'NUM'), ('.', '.'), ('Google', 'NOUN'), ('and', 'CONJ'), ('Twitter', 'NOUN'), ('made', 'VERB'), ('a', 'DET'), ('deal', 'NOUN'), ('in', 'ADP'), ('2015', 'NUM'), ('that', 'ADP'), ('gave', 'VERB'), ('Google', 'NOUN'), ('access', 'NOUN'), ('to', 'PRT'), ('Twitter', 'NOUN'), (\"'s\", 'PRT'), ('firehose', 'NOUN'), ('.', '.'), ('Twitter', 'NOUN'), ('is', 'VERB'), ('an', 'DET'), ('online', 'NOUN'), ('news', 'NOUN'), ('and', 'CONJ'), ('social', 'ADJ'), ('networking', 'NOUN'), ('service', 'NOUN'), ('on', 'ADP'), ('which', 'DET'), ('users', 'NOUN'), ('post', 'NOUN'), ('and', 'CONJ'), ('interact', 'NOUN'), ('with', 'ADP'), ('messages', 'VERB'), ('known', 'VERB'), ('as', 'ADP'), ('tweets', 'NOUN'), ('.', '.'), ('Before', 'ADP'), ('entering', 'VERB'), ('politics', 'NOUN'), (',', '.'), ('Donald', 'NOUN'), ('Trump', 'NOUN'), ('was', 'VERB'), ('a', 'DET'), ('domineering', 'VERB'), ('businessman', 'NOUN'), ('and', 'CONJ'), ('a', 'DET'), ('television', 'NOUN'), ('personality', 'ADJ'), ('.', '.'), ('The', 'DET'), ('2018', 'NUM'), ('FIFA', 'NOUN'), ('World', 'NOUN'), ('Cup', 'NOUN'), ('is', 'VERB'), ('the', 'DET'), ('21st', 'NUM'), ('FIFA', 'NOUN'), ('World', 'NOUN'), ('Cup', 'NOUN'), (',', '.'), ('an', 'DET'), ('international', 'ADJ'), ('football', 'NOUN'), ('tournament', 'NOUN'), ('contested', 'VERB'), ('once', 'ADV'), ('every', 'DET'), ('four', 'NUM'), ('years', 'NOUN'), ('.', '.'), ('This', 'DET'), ('is', 'VERB'), ('the', 'DET'), ('first', 'ADJ'), ('World', 'NOUN'), ('Cup', 'NOUN'), ('to', 'PRT'), ('be', 'VERB'), ('held', 'VERB'), ('in', 'ADP'), ('Eastern', 'NOUN'), ('Europe', 'NOUN'), ('and', 'CONJ'), ('the', 'DET'), ('11th', 'ADJ'), ('time', 'NOUN'), ('that', 'ADP'), ('it', 'PRON'), ('has', 'VERB'), ('been', 'VERB'), ('held', 'VERB'), ('in', 'ADP'), ('Europe', 'NOUN'), ('.', '.'), ('Show', 'NOUN'), ('me', 'PRON'), ('the', 'DET'), ('cheapest', 'ADJ'), ('round', 'NOUN'), ('trips', 'NOUN'), ('from', 'ADP'), ('Dallas', 'NOUN'), ('to', 'PRT'), ('Atlanta', 'NOUN'), ('I', 'PRON'), ('would', 'VERB'), ('like', 'ADP'), ('to', 'PRT'), ('see', 'VERB'), ('flights', 'NOUN'), ('from', 'ADP'), ('Denver', 'NOUN'), ('to', 'PRT'), ('Philadelphia', 'NOUN'), ('.', '.'), ('Show', 'NOUN'), ('me', 'PRON'), ('the', 'DET'), ('price', 'NOUN'), ('of', 'ADP'), ('the', 'DET'), ('flights', 'NOUN'), ('leaving', 'VERB'), ('Atlanta', 'NOUN'), ('at', 'ADP'), ('about', 'ADP'), ('3', 'NUM'), ('in', 'ADP'), ('the', 'DET'), ('afternoon', 'NOUN'), ('and', 'CONJ'), ('arriving', 'VERB'), ('in', 'ADP'), ('San', 'NOUN'), ('Francisco', 'NOUN'), ('.', '.'), ('NASA', 'NOUN'), ('invited', 'VERB'), ('social', 'ADJ'), ('media', 'NOUN'), ('users', 'NOUN'), ('to', 'PRT'), ('experience', 'NOUN'), ('the', 'DET'), ('launch', 'NOUN'), ('of', 'ADP'), ('ICESAT-2', 'NOUN'), ('Satellite', 'NOUN'), ('.', '.')]\n",
      "222.31777381896973\n"
     ]
    }
   ],
   "source": [
    "\n",
    "sentence_test = open('Test_sentences.txt',mode='r').read() #read\n",
    "words = word_tokenize(sentence_test) #tokenize\n",
    "\n",
    "start = time.time()\n",
    "tagged_seq = modified_Viterbi_lexirule_based(words) #modified with lexion and rule based\n",
    "end = time.time()\n",
    "difference = end-start\n",
    "\n",
    "print(tagged_seq) #tagged words\n",
    "print(difference) #time\n",
    "vannila_test_tagged_seq = tagged_seq"
   ]
  },
  {
   "cell_type": "code",
   "execution_count": 91,
   "metadata": {},
   "outputs": [
    {
     "name": "stdout",
     "output_type": "stream",
     "text": [
      "[('Android', 'NOUN'), ('is', 'VERB'), ('a', 'DET'), ('mobile', 'ADJ'), ('operating', 'NOUN'), ('system', 'NOUN'), ('developed', 'VERB'), ('by', 'ADP'), ('Google', 'DET'), ('.', '.'), ('Android', 'NOUN'), ('has', 'VERB'), ('been', 'VERB'), ('the', 'DET'), ('best-selling', 'NOUN'), ('OS', 'NOUN'), ('worldwide', 'NOUN'), ('on', 'ADP'), ('smartphones', 'DET'), ('since', 'ADP'), ('2011', 'DET'), ('and', 'CONJ'), ('on', 'ADP'), ('tablets', 'NOUN'), ('since', 'ADP'), ('2013', 'DET'), ('.', '.'), ('Google', 'NOUN'), ('and', 'CONJ'), ('Twitter', 'NOUN'), ('made', 'VERB'), ('a', 'DET'), ('deal', 'NOUN'), ('in', 'ADP'), ('2015', 'DET'), ('that', 'ADP'), ('gave', 'VERB'), ('Google', 'X'), ('access', 'NOUN'), ('to', 'PRT'), ('Twitter', 'VERB'), (\"'s\", 'PRT'), ('firehose', 'VERB'), ('.', '.'), ('Twitter', 'NOUN'), ('is', 'VERB'), ('an', 'DET'), ('online', 'NOUN'), ('news', 'NOUN'), ('and', 'CONJ'), ('social', 'ADJ'), ('networking', 'NOUN'), ('service', 'NOUN'), ('on', 'ADP'), ('which', 'DET'), ('users', 'NOUN'), ('post', 'NOUN'), ('and', 'CONJ'), ('interact', 'NOUN'), ('with', 'ADP'), ('messages', 'DET'), ('known', 'VERB'), ('as', 'ADP'), ('tweets', 'DET'), ('.', '.'), ('Before', 'ADP'), ('entering', 'VERB'), ('politics', 'NOUN'), (',', '.'), ('Donald', 'NOUN'), ('Trump', 'NOUN'), ('was', 'VERB'), ('a', 'DET'), ('domineering', 'NOUN'), ('businessman', 'NOUN'), ('and', 'CONJ'), ('a', 'DET'), ('television', 'NOUN'), ('personality', 'NOUN'), ('.', '.'), ('The', 'DET'), ('2018', 'NOUN'), ('FIFA', 'NOUN'), ('World', 'NOUN'), ('Cup', 'NOUN'), ('is', 'VERB'), ('the', 'DET'), ('21st', 'NOUN'), ('FIFA', 'NOUN'), ('World', 'NOUN'), ('Cup', 'NOUN'), (',', '.'), ('an', 'DET'), ('international', 'ADJ'), ('football', 'NOUN'), ('tournament', 'NOUN'), ('contested', 'NOUN'), ('once', 'ADV'), ('every', 'DET'), ('four', 'NUM'), ('years', 'NOUN'), ('.', '.'), ('This', 'DET'), ('is', 'VERB'), ('the', 'DET'), ('first', 'ADJ'), ('World', 'NOUN'), ('Cup', 'NOUN'), ('to', 'PRT'), ('be', 'VERB'), ('held', 'VERB'), ('in', 'ADP'), ('Eastern', 'NOUN'), ('Europe', 'NOUN'), ('and', 'CONJ'), ('the', 'DET'), ('11th', 'ADJ'), ('time', 'NOUN'), ('that', 'ADP'), ('it', 'PRON'), ('has', 'VERB'), ('been', 'VERB'), ('held', 'VERB'), ('in', 'ADP'), ('Europe', 'NOUN'), ('.', '.'), ('Show', 'NOUN'), ('me', 'PRON'), ('the', 'DET'), ('cheapest', 'ADJ'), ('round', 'NOUN'), ('trips', 'NOUN'), ('from', 'ADP'), ('Dallas', 'NOUN'), ('to', 'PRT'), ('Atlanta', 'NOUN'), ('I', 'PRON'), ('would', 'VERB'), ('like', 'ADP'), ('to', 'PRT'), ('see', 'VERB'), ('flights', 'NOUN'), ('from', 'ADP'), ('Denver', 'NOUN'), ('to', 'PRT'), ('Philadelphia', 'NOUN'), ('.', '.'), ('Show', 'NOUN'), ('me', 'PRON'), ('the', 'DET'), ('price', 'NOUN'), ('of', 'ADP'), ('the', 'DET'), ('flights', 'NOUN'), ('leaving', 'VERB'), ('Atlanta', 'NOUN'), ('at', 'ADP'), ('about', 'ADP'), ('3', 'NUM'), ('in', 'ADP'), ('the', 'DET'), ('afternoon', 'NOUN'), ('and', 'CONJ'), ('arriving', 'NOUN'), ('in', 'ADP'), ('San', 'NOUN'), ('Francisco', 'NOUN'), ('.', '.'), ('NASA', 'NOUN'), ('invited', 'NOUN'), ('social', 'ADJ'), ('media', 'NOUN'), ('users', 'NOUN'), ('to', 'PRT'), ('experience', 'NOUN'), ('the', 'DET'), ('launch', 'NOUN'), ('of', 'ADP'), ('ICESAT-2', 'DET'), ('Satellite', 'NOUN'), ('.', '.')]\n",
      "51.883957624435425\n"
     ]
    }
   ],
   "source": [
    "\n",
    "sentence_test = open('Test_sentences.txt',mode='r').read()\n",
    "words = word_tokenize(sentence_test)\n",
    "\n",
    "start = time.time()\n",
    "tagged_seq = modified_Viterbi_prob_based(words) #modified with probabilities\n",
    "end = time.time() \n",
    "difference = end-start\n",
    "\n",
    "print(tagged_seq) #tagged words\n",
    "print(difference)# time\n",
    "vannila_test_tagged_seq = tagged_seq"
   ]
  },
  {
   "cell_type": "markdown",
   "metadata": {},
   "source": [
    "."
   ]
  },
  {
   "cell_type": "markdown",
   "metadata": {},
   "source": [
    "##### List down at least three cases from the sample test file (i.e. unknown word-tag pairs) which were incorrectly tagged by the original Viterbi POS tagger and got corrected after your modifications.\n",
    "\n",
    "- 'Twitter', 'Android', 'Google' which was tagged as Adjective 'ADJ' are properly tagged with 'NOUN' in both the modified algorithms.\n",
    "- Words like 'NASA', 'FIFA' are correctly tagged as 'NOUN' in both modifications.\n",
    "- Integers and float are properly tagged as 'NUM'in Lexion_Rule based tagging. example: years 2011,2013.\n",
    "- Words like 'arriving' with -ing have been correctly mapped as VERB in Lexion_Rule Based tagging.\n"
   ]
  },
  {
   "cell_type": "code",
   "execution_count": null,
   "metadata": {},
   "outputs": [],
   "source": []
  }
 ],
 "metadata": {
  "kernelspec": {
   "display_name": "Python 3",
   "language": "python",
   "name": "python3"
  },
  "language_info": {
   "codemirror_mode": {
    "name": "ipython",
    "version": 3
   },
   "file_extension": ".py",
   "mimetype": "text/x-python",
   "name": "python",
   "nbconvert_exporter": "python",
   "pygments_lexer": "ipython3",
   "version": "3.8.5"
  }
 },
 "nbformat": 4,
 "nbformat_minor": 4
}
